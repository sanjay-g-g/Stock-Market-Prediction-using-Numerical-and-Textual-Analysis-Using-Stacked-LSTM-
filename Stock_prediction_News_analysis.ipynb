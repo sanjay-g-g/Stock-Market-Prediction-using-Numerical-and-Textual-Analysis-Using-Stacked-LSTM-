{
  "nbformat": 4,
  "nbformat_minor": 0,
  "metadata": {
    "colab": {
      "name": "Stock_prediction_News_analysis.ipynb",
      "provenance": [],
      "collapsed_sections": []
    },
    "kernelspec": {
      "name": "python3",
      "display_name": "Python 3"
    },
    "accelerator": "GPU"
  },
  "cells": [
    {
      "cell_type": "markdown",
      "metadata": {
        "id": "DTbEgXnEAr0M"
      },
      "source": [
        "### Sanjay Giri Goswami"
      ]
    },
    {
      "cell_type": "markdown",
      "metadata": {
        "id": "WXM7qq4xBPAw"
      },
      "source": [
        "# Task - Stock Market Prediction Using Numerical And Textual Analysis"
      ]
    },
    {
      "cell_type": "code",
      "metadata": {
        "colab": {
          "base_uri": "https://localhost:8080/",
          "height": 17
        },
        "id": "1OQebWZmBS-r",
        "outputId": "b567e9b3-2887-4123-95c5-52b13834e55d"
      },
      "source": [
        "# Imports\n",
        "import warnings\n",
        "warnings.filterwarnings(\"ignore\", category=FutureWarning)\n",
        "import pandas as pd\n",
        "import numpy as np\n",
        "import matplotlib.pyplot as plt\n",
        "# plt.style.use('fivethirtyeight')\n",
        "import seaborn as sns\n",
        "from pandas import plotting\n",
        "# for interactive visualizations\n",
        "import plotly.offline as py\n",
        "from plotly.offline import init_notebook_mode, iplot\n",
        "import plotly.graph_objs as go\n",
        "from plotly import tools\n",
        "init_notebook_mode(connected = True)\n",
        "import plotly.figure_factory as ff"
      ],
      "execution_count": 1,
      "outputs": [
        {
          "output_type": "display_data",
          "data": {
            "text/html": [
              "        <script type=\"text/javascript\">\n",
              "        window.PlotlyConfig = {MathJaxConfig: 'local'};\n",
              "        if (window.MathJax) {MathJax.Hub.Config({SVG: {font: \"STIX-Web\"}});}\n",
              "        if (typeof require !== 'undefined') {\n",
              "        require.undef(\"plotly\");\n",
              "        requirejs.config({\n",
              "            paths: {\n",
              "                'plotly': ['https://cdn.plot.ly/plotly-latest.min']\n",
              "            }\n",
              "        });\n",
              "        require(['plotly'], function(Plotly) {\n",
              "            window._Plotly = Plotly;\n",
              "        });\n",
              "        }\n",
              "        </script>\n",
              "        "
            ]
          },
          "metadata": {
            "tags": []
          }
        }
      ]
    },
    {
      "cell_type": "code",
      "metadata": {
        "colab": {
          "base_uri": "https://localhost:8080/"
        },
        "id": "YT3FGqhCDKXM",
        "outputId": "63afb384-9ff5-4b5f-c2d4-fa054493df42"
      },
      "source": [
        "# Load Data\n",
        "from google.colab import drive\n",
        "drive.mount('/content/drive')"
      ],
      "execution_count": 2,
      "outputs": [
        {
          "output_type": "stream",
          "text": [
            "Mounted at /content/drive\n"
          ],
          "name": "stdout"
        }
      ]
    },
    {
      "cell_type": "code",
      "metadata": {
        "id": "I8bVJF8vGrcg"
      },
      "source": [
        "df1=pd.read_csv('/content/drive/MyDrive/india-news-headlines.csv')\n",
        "df2=pd.read_csv(\"/content/drive/MyDrive/^NSEI (3).csv\")"
      ],
      "execution_count": 3,
      "outputs": []
    },
    {
      "cell_type": "code",
      "metadata": {
        "colab": {
          "base_uri": "https://localhost:8080/",
          "height": 191
        },
        "id": "Vgu3NOfYHY5l",
        "outputId": "8f5d8117-0421-4153-de0f-193a95de6e9b"
      },
      "source": [
        "df1.head()"
      ],
      "execution_count": 4,
      "outputs": [
        {
          "output_type": "execute_result",
          "data": {
            "text/html": [
              "<div>\n",
              "<style scoped>\n",
              "    .dataframe tbody tr th:only-of-type {\n",
              "        vertical-align: middle;\n",
              "    }\n",
              "\n",
              "    .dataframe tbody tr th {\n",
              "        vertical-align: top;\n",
              "    }\n",
              "\n",
              "    .dataframe thead th {\n",
              "        text-align: right;\n",
              "    }\n",
              "</style>\n",
              "<table border=\"1\" class=\"dataframe\">\n",
              "  <thead>\n",
              "    <tr style=\"text-align: right;\">\n",
              "      <th></th>\n",
              "      <th>publish_date</th>\n",
              "      <th>headline_category</th>\n",
              "      <th>headline_text</th>\n",
              "    </tr>\n",
              "  </thead>\n",
              "  <tbody>\n",
              "    <tr>\n",
              "      <th>0</th>\n",
              "      <td>20010101</td>\n",
              "      <td>sports.wwe</td>\n",
              "      <td>win over cena satisfying but defeating underta...</td>\n",
              "    </tr>\n",
              "    <tr>\n",
              "      <th>1</th>\n",
              "      <td>20010102</td>\n",
              "      <td>unknown</td>\n",
              "      <td>Status quo will not be disturbed at Ayodhya; s...</td>\n",
              "    </tr>\n",
              "    <tr>\n",
              "      <th>2</th>\n",
              "      <td>20010102</td>\n",
              "      <td>unknown</td>\n",
              "      <td>Fissures in Hurriyat over Pak visit</td>\n",
              "    </tr>\n",
              "    <tr>\n",
              "      <th>3</th>\n",
              "      <td>20010102</td>\n",
              "      <td>unknown</td>\n",
              "      <td>America's unwanted heading for India?</td>\n",
              "    </tr>\n",
              "    <tr>\n",
              "      <th>4</th>\n",
              "      <td>20010102</td>\n",
              "      <td>unknown</td>\n",
              "      <td>For bigwigs; it is destination Goa</td>\n",
              "    </tr>\n",
              "  </tbody>\n",
              "</table>\n",
              "</div>"
            ],
            "text/plain": [
              "   publish_date  ...                                      headline_text\n",
              "0      20010101  ...  win over cena satisfying but defeating underta...\n",
              "1      20010102  ...  Status quo will not be disturbed at Ayodhya; s...\n",
              "2      20010102  ...                Fissures in Hurriyat over Pak visit\n",
              "3      20010102  ...              America's unwanted heading for India?\n",
              "4      20010102  ...                 For bigwigs; it is destination Goa\n",
              "\n",
              "[5 rows x 3 columns]"
            ]
          },
          "metadata": {
            "tags": []
          },
          "execution_count": 4
        }
      ]
    },
    {
      "cell_type": "code",
      "metadata": {
        "colab": {
          "base_uri": "https://localhost:8080/",
          "height": 191
        },
        "id": "RfOfgroUgUnO",
        "outputId": "e7bf2e72-20ab-4c69-c99a-bca611cf1c5a"
      },
      "source": [
        "df1.tail()"
      ],
      "execution_count": 5,
      "outputs": [
        {
          "output_type": "execute_result",
          "data": {
            "text/html": [
              "<div>\n",
              "<style scoped>\n",
              "    .dataframe tbody tr th:only-of-type {\n",
              "        vertical-align: middle;\n",
              "    }\n",
              "\n",
              "    .dataframe tbody tr th {\n",
              "        vertical-align: top;\n",
              "    }\n",
              "\n",
              "    .dataframe thead th {\n",
              "        text-align: right;\n",
              "    }\n",
              "</style>\n",
              "<table border=\"1\" class=\"dataframe\">\n",
              "  <thead>\n",
              "    <tr style=\"text-align: right;\">\n",
              "      <th></th>\n",
              "      <th>publish_date</th>\n",
              "      <th>headline_category</th>\n",
              "      <th>headline_text</th>\n",
              "    </tr>\n",
              "  </thead>\n",
              "  <tbody>\n",
              "    <tr>\n",
              "      <th>3297167</th>\n",
              "      <td>20200630</td>\n",
              "      <td>gadgets-news</td>\n",
              "      <td>why tiktok removed 1 65 crore videos in india</td>\n",
              "    </tr>\n",
              "    <tr>\n",
              "      <th>3297168</th>\n",
              "      <td>20200630</td>\n",
              "      <td>entertainment.hindi.bollywood</td>\n",
              "      <td>apurva asrani calls alia bhatts mother soni ra...</td>\n",
              "    </tr>\n",
              "    <tr>\n",
              "      <th>3297169</th>\n",
              "      <td>20200630</td>\n",
              "      <td>entertainment.hindi.bollywood</td>\n",
              "      <td>kangana ranaut gets a doll version of herself ...</td>\n",
              "    </tr>\n",
              "    <tr>\n",
              "      <th>3297170</th>\n",
              "      <td>20200630</td>\n",
              "      <td>entertainment.hindi.bollywood</td>\n",
              "      <td>meezaan jaffrey reminisces his childhood days ...</td>\n",
              "    </tr>\n",
              "    <tr>\n",
              "      <th>3297171</th>\n",
              "      <td>20200630</td>\n",
              "      <td>entertainment.telugu.movies.news</td>\n",
              "      <td>prabhas20 titled as radhe shyam prabhas and po...</td>\n",
              "    </tr>\n",
              "  </tbody>\n",
              "</table>\n",
              "</div>"
            ],
            "text/plain": [
              "         publish_date  ...                                      headline_text\n",
              "3297167      20200630  ...      why tiktok removed 1 65 crore videos in india\n",
              "3297168      20200630  ...  apurva asrani calls alia bhatts mother soni ra...\n",
              "3297169      20200630  ...  kangana ranaut gets a doll version of herself ...\n",
              "3297170      20200630  ...  meezaan jaffrey reminisces his childhood days ...\n",
              "3297171      20200630  ...  prabhas20 titled as radhe shyam prabhas and po...\n",
              "\n",
              "[5 rows x 3 columns]"
            ]
          },
          "metadata": {
            "tags": []
          },
          "execution_count": 5
        }
      ]
    },
    {
      "cell_type": "code",
      "metadata": {
        "colab": {
          "base_uri": "https://localhost:8080/"
        },
        "id": "9wv3pQLBHzM6",
        "outputId": "dbf293ba-5cce-4d01-d80e-33e4aaff70a9"
      },
      "source": [
        "df1.info()"
      ],
      "execution_count": 6,
      "outputs": [
        {
          "output_type": "stream",
          "text": [
            "<class 'pandas.core.frame.DataFrame'>\n",
            "RangeIndex: 3297172 entries, 0 to 3297171\n",
            "Data columns (total 3 columns):\n",
            " #   Column             Dtype \n",
            "---  ------             ----- \n",
            " 0   publish_date       int64 \n",
            " 1   headline_category  object\n",
            " 2   headline_text      object\n",
            "dtypes: int64(1), object(2)\n",
            "memory usage: 75.5+ MB\n"
          ],
          "name": "stdout"
        }
      ]
    },
    {
      "cell_type": "code",
      "metadata": {
        "id": "9TBiT0s8709p"
      },
      "source": [
        "# df1=df1[['publish_date','headline_text']].drop_duplicates()\n",
        "\n"
      ],
      "execution_count": 7,
      "outputs": []
    },
    {
      "cell_type": "code",
      "metadata": {
        "id": "35KJnVBN71Lt"
      },
      "source": [
        "df1['Date'] = pd.to_datetime(df1['publish_date'], format='%Y%m%d')"
      ],
      "execution_count": 8,
      "outputs": []
    },
    {
      "cell_type": "code",
      "metadata": {
        "colab": {
          "base_uri": "https://localhost:8080/",
          "height": 191
        },
        "id": "hE4uG4yL71Z-",
        "outputId": "8773ee81-1c01-455c-adc5-5be9310c0dc4"
      },
      "source": [
        "df1.tail()"
      ],
      "execution_count": 9,
      "outputs": [
        {
          "output_type": "execute_result",
          "data": {
            "text/html": [
              "<div>\n",
              "<style scoped>\n",
              "    .dataframe tbody tr th:only-of-type {\n",
              "        vertical-align: middle;\n",
              "    }\n",
              "\n",
              "    .dataframe tbody tr th {\n",
              "        vertical-align: top;\n",
              "    }\n",
              "\n",
              "    .dataframe thead th {\n",
              "        text-align: right;\n",
              "    }\n",
              "</style>\n",
              "<table border=\"1\" class=\"dataframe\">\n",
              "  <thead>\n",
              "    <tr style=\"text-align: right;\">\n",
              "      <th></th>\n",
              "      <th>publish_date</th>\n",
              "      <th>headline_category</th>\n",
              "      <th>headline_text</th>\n",
              "      <th>Date</th>\n",
              "    </tr>\n",
              "  </thead>\n",
              "  <tbody>\n",
              "    <tr>\n",
              "      <th>3297167</th>\n",
              "      <td>20200630</td>\n",
              "      <td>gadgets-news</td>\n",
              "      <td>why tiktok removed 1 65 crore videos in india</td>\n",
              "      <td>2020-06-30</td>\n",
              "    </tr>\n",
              "    <tr>\n",
              "      <th>3297168</th>\n",
              "      <td>20200630</td>\n",
              "      <td>entertainment.hindi.bollywood</td>\n",
              "      <td>apurva asrani calls alia bhatts mother soni ra...</td>\n",
              "      <td>2020-06-30</td>\n",
              "    </tr>\n",
              "    <tr>\n",
              "      <th>3297169</th>\n",
              "      <td>20200630</td>\n",
              "      <td>entertainment.hindi.bollywood</td>\n",
              "      <td>kangana ranaut gets a doll version of herself ...</td>\n",
              "      <td>2020-06-30</td>\n",
              "    </tr>\n",
              "    <tr>\n",
              "      <th>3297170</th>\n",
              "      <td>20200630</td>\n",
              "      <td>entertainment.hindi.bollywood</td>\n",
              "      <td>meezaan jaffrey reminisces his childhood days ...</td>\n",
              "      <td>2020-06-30</td>\n",
              "    </tr>\n",
              "    <tr>\n",
              "      <th>3297171</th>\n",
              "      <td>20200630</td>\n",
              "      <td>entertainment.telugu.movies.news</td>\n",
              "      <td>prabhas20 titled as radhe shyam prabhas and po...</td>\n",
              "      <td>2020-06-30</td>\n",
              "    </tr>\n",
              "  </tbody>\n",
              "</table>\n",
              "</div>"
            ],
            "text/plain": [
              "         publish_date  ...       Date\n",
              "3297167      20200630  ... 2020-06-30\n",
              "3297168      20200630  ... 2020-06-30\n",
              "3297169      20200630  ... 2020-06-30\n",
              "3297170      20200630  ... 2020-06-30\n",
              "3297171      20200630  ... 2020-06-30\n",
              "\n",
              "[5 rows x 4 columns]"
            ]
          },
          "metadata": {
            "tags": []
          },
          "execution_count": 9
        }
      ]
    },
    {
      "cell_type": "code",
      "metadata": {
        "id": "XWzYfMxxH9tF"
      },
      "source": [
        "df1.drop(columns='publish_date',inplace=True)"
      ],
      "execution_count": 10,
      "outputs": []
    },
    {
      "cell_type": "code",
      "metadata": {
        "colab": {
          "base_uri": "https://localhost:8080/",
          "height": 191
        },
        "id": "g3XbCK9tfHLR",
        "outputId": "7f37106e-985e-4f6f-a017-563cf78c07d9"
      },
      "source": [
        "df1.head()"
      ],
      "execution_count": 11,
      "outputs": [
        {
          "output_type": "execute_result",
          "data": {
            "text/html": [
              "<div>\n",
              "<style scoped>\n",
              "    .dataframe tbody tr th:only-of-type {\n",
              "        vertical-align: middle;\n",
              "    }\n",
              "\n",
              "    .dataframe tbody tr th {\n",
              "        vertical-align: top;\n",
              "    }\n",
              "\n",
              "    .dataframe thead th {\n",
              "        text-align: right;\n",
              "    }\n",
              "</style>\n",
              "<table border=\"1\" class=\"dataframe\">\n",
              "  <thead>\n",
              "    <tr style=\"text-align: right;\">\n",
              "      <th></th>\n",
              "      <th>headline_category</th>\n",
              "      <th>headline_text</th>\n",
              "      <th>Date</th>\n",
              "    </tr>\n",
              "  </thead>\n",
              "  <tbody>\n",
              "    <tr>\n",
              "      <th>0</th>\n",
              "      <td>sports.wwe</td>\n",
              "      <td>win over cena satisfying but defeating underta...</td>\n",
              "      <td>2001-01-01</td>\n",
              "    </tr>\n",
              "    <tr>\n",
              "      <th>1</th>\n",
              "      <td>unknown</td>\n",
              "      <td>Status quo will not be disturbed at Ayodhya; s...</td>\n",
              "      <td>2001-01-02</td>\n",
              "    </tr>\n",
              "    <tr>\n",
              "      <th>2</th>\n",
              "      <td>unknown</td>\n",
              "      <td>Fissures in Hurriyat over Pak visit</td>\n",
              "      <td>2001-01-02</td>\n",
              "    </tr>\n",
              "    <tr>\n",
              "      <th>3</th>\n",
              "      <td>unknown</td>\n",
              "      <td>America's unwanted heading for India?</td>\n",
              "      <td>2001-01-02</td>\n",
              "    </tr>\n",
              "    <tr>\n",
              "      <th>4</th>\n",
              "      <td>unknown</td>\n",
              "      <td>For bigwigs; it is destination Goa</td>\n",
              "      <td>2001-01-02</td>\n",
              "    </tr>\n",
              "  </tbody>\n",
              "</table>\n",
              "</div>"
            ],
            "text/plain": [
              "  headline_category  ...       Date\n",
              "0        sports.wwe  ... 2001-01-01\n",
              "1           unknown  ... 2001-01-02\n",
              "2           unknown  ... 2001-01-02\n",
              "3           unknown  ... 2001-01-02\n",
              "4           unknown  ... 2001-01-02\n",
              "\n",
              "[5 rows x 3 columns]"
            ]
          },
          "metadata": {
            "tags": []
          },
          "execution_count": 11
        }
      ]
    },
    {
      "cell_type": "code",
      "metadata": {
        "colab": {
          "base_uri": "https://localhost:8080/"
        },
        "id": "U8086W7dIBhR",
        "outputId": "473cd04c-2a64-4c4c-828e-8e451f13d892"
      },
      "source": [
        "# cheak null values \n",
        "df1.isna().sum()"
      ],
      "execution_count": 12,
      "outputs": [
        {
          "output_type": "execute_result",
          "data": {
            "text/plain": [
              "headline_category    0\n",
              "headline_text        0\n",
              "Date                 0\n",
              "dtype: int64"
            ]
          },
          "metadata": {
            "tags": []
          },
          "execution_count": 12
        }
      ]
    },
    {
      "cell_type": "code",
      "metadata": {
        "colab": {
          "base_uri": "https://localhost:8080/"
        },
        "id": "0-hRFnY1EjaC",
        "outputId": "a13b23ce-c90b-4355-ab6e-e08c138af2ff"
      },
      "source": [
        "!pip install neattext"
      ],
      "execution_count": 13,
      "outputs": [
        {
          "output_type": "stream",
          "text": [
            "Collecting neattext\n",
            "\u001b[?25l  Downloading https://files.pythonhosted.org/packages/ea/ff/382b0c8705034f97088c13567403a5609714bb639b98a73f841193bb49e0/neattext-0.0.9-py3-none-any.whl (85kB)\n",
            "\r\u001b[K     |███▉                            | 10kB 24.1MB/s eta 0:00:01\r\u001b[K     |███████▋                        | 20kB 29.9MB/s eta 0:00:01\r\u001b[K     |███████████▌                    | 30kB 14.7MB/s eta 0:00:01\r\u001b[K     |███████████████▎                | 40kB 11.0MB/s eta 0:00:01\r\u001b[K     |███████████████████             | 51kB 7.4MB/s eta 0:00:01\r\u001b[K     |███████████████████████         | 61kB 7.9MB/s eta 0:00:01\r\u001b[K     |██████████████████████████▊     | 71kB 8.4MB/s eta 0:00:01\r\u001b[K     |██████████████████████████████▌ | 81kB 8.4MB/s eta 0:00:01\r\u001b[K     |████████████████████████████████| 92kB 5.5MB/s \n",
            "\u001b[?25hInstalling collected packages: neattext\n",
            "Successfully installed neattext-0.0.9\n"
          ],
          "name": "stdout"
        }
      ]
    },
    {
      "cell_type": "markdown",
      "metadata": {
        "id": "_Iaziq4YIKyP"
      },
      "source": [
        "### Text preprocessing or text cleaning"
      ]
    },
    {
      "cell_type": "code",
      "metadata": {
        "id": "1JMbu6CnIPwH"
      },
      "source": [
        "# Load Text cleaning pkgs\n",
        "import neattext as nt\n",
        "import neattext.functions as nfx"
      ],
      "execution_count": 14,
      "outputs": []
    },
    {
      "cell_type": "code",
      "metadata": {
        "colab": {
          "base_uri": "https://localhost:8080/"
        },
        "id": "eqzT8k57IZmT",
        "outputId": "cda67099-7e4b-48f2-90a2-ac047966c4b8"
      },
      "source": [
        "# Noise scan\n",
        "df1['headline_text'].apply(lambda x: nt.TextFrame(x).noise_scan()['text_noise'])"
      ],
      "execution_count": 15,
      "outputs": [
        {
          "output_type": "execute_result",
          "data": {
            "text/plain": [
              "0           2.898551\n",
              "1           8.620690\n",
              "2           5.714286\n",
              "3           8.108108\n",
              "4          11.764706\n",
              "             ...    \n",
              "3297167     4.444444\n",
              "3297168     1.041667\n",
              "3297169     6.140351\n",
              "3297170     4.587156\n",
              "3297171     6.250000\n",
              "Name: headline_text, Length: 3297172, dtype: float64"
            ]
          },
          "metadata": {
            "tags": []
          },
          "execution_count": 15
        }
      ]
    },
    {
      "cell_type": "code",
      "metadata": {
        "id": "2By-5_KVIlF8"
      },
      "source": [
        "# text cleaning for df1['headline_text']\n",
        "#remove sapcial characters\n",
        "df1['headline_text']=df1['headline_text'].apply(nfx.remove_special_characters)\n",
        "# remove multiple\n",
        "df1['headline_text']=df1['headline_text'].apply(nfx.remove_multiple_spaces)\n",
        "## contractions\n",
        "df1['headline_text']=df1['headline_text'].apply(nfx.fix_contractions)\n",
        "# remove stopwords\n",
        "df1['headline_text']=df1['headline_text'].apply(nfx.remove_stopwords)\n",
        "# remove punctation\n",
        "df1['headline_text']=df1['headline_text'].apply(nfx.remove_punctuations)\n"
      ],
      "execution_count": 16,
      "outputs": []
    },
    {
      "cell_type": "code",
      "metadata": {
        "colab": {
          "base_uri": "https://localhost:8080/",
          "height": 191
        },
        "id": "vCFeWBNMI5Ve",
        "outputId": "d5b9590a-4ba0-4017-f197-8d9bb5a27c16"
      },
      "source": [
        "df1.head()"
      ],
      "execution_count": 17,
      "outputs": [
        {
          "output_type": "execute_result",
          "data": {
            "text/html": [
              "<div>\n",
              "<style scoped>\n",
              "    .dataframe tbody tr th:only-of-type {\n",
              "        vertical-align: middle;\n",
              "    }\n",
              "\n",
              "    .dataframe tbody tr th {\n",
              "        vertical-align: top;\n",
              "    }\n",
              "\n",
              "    .dataframe thead th {\n",
              "        text-align: right;\n",
              "    }\n",
              "</style>\n",
              "<table border=\"1\" class=\"dataframe\">\n",
              "  <thead>\n",
              "    <tr style=\"text-align: right;\">\n",
              "      <th></th>\n",
              "      <th>headline_category</th>\n",
              "      <th>headline_text</th>\n",
              "      <th>Date</th>\n",
              "    </tr>\n",
              "  </thead>\n",
              "  <tbody>\n",
              "    <tr>\n",
              "      <th>0</th>\n",
              "      <td>sports.wwe</td>\n",
              "      <td>win cena satisfying defeating undertaker bigge...</td>\n",
              "      <td>2001-01-01</td>\n",
              "    </tr>\n",
              "    <tr>\n",
              "      <th>1</th>\n",
              "      <td>unknown</td>\n",
              "      <td>status quo disturbed ayodhya says vajpayee</td>\n",
              "      <td>2001-01-02</td>\n",
              "    </tr>\n",
              "    <tr>\n",
              "      <th>2</th>\n",
              "      <td>unknown</td>\n",
              "      <td>fissures hurriyat pak visit</td>\n",
              "      <td>2001-01-02</td>\n",
              "    </tr>\n",
              "    <tr>\n",
              "      <th>3</th>\n",
              "      <td>unknown</td>\n",
              "      <td>americas unwanted heading india</td>\n",
              "      <td>2001-01-02</td>\n",
              "    </tr>\n",
              "    <tr>\n",
              "      <th>4</th>\n",
              "      <td>unknown</td>\n",
              "      <td>bigwigs destination goa</td>\n",
              "      <td>2001-01-02</td>\n",
              "    </tr>\n",
              "  </tbody>\n",
              "</table>\n",
              "</div>"
            ],
            "text/plain": [
              "  headline_category  ...       Date\n",
              "0        sports.wwe  ... 2001-01-01\n",
              "1           unknown  ... 2001-01-02\n",
              "2           unknown  ... 2001-01-02\n",
              "3           unknown  ... 2001-01-02\n",
              "4           unknown  ... 2001-01-02\n",
              "\n",
              "[5 rows x 3 columns]"
            ]
          },
          "metadata": {
            "tags": []
          },
          "execution_count": 17
        }
      ]
    },
    {
      "cell_type": "code",
      "metadata": {
        "colab": {
          "base_uri": "https://localhost:8080/"
        },
        "id": "UCnEXFI8LhP7",
        "outputId": "01bd1602-e843-41bc-a68f-6ee921ad100c"
      },
      "source": [
        "import re\n",
        "import nltk\n",
        "from wordcloud import WordCloud, STOPWORDS\n",
        "nltk.download('stopwords')"
      ],
      "execution_count": 18,
      "outputs": [
        {
          "output_type": "stream",
          "text": [
            "[nltk_data] Downloading package stopwords to /root/nltk_data...\n",
            "[nltk_data]   Unzipping corpora/stopwords.zip.\n"
          ],
          "name": "stdout"
        },
        {
          "output_type": "execute_result",
          "data": {
            "text/plain": [
              "True"
            ]
          },
          "metadata": {
            "tags": []
          },
          "execution_count": 18
        }
      ]
    },
    {
      "cell_type": "code",
      "metadata": {
        "id": "LoXkgX2fPdcP"
      },
      "source": [
        "headline=' '.join(df1['headline_text'].str.lower())"
      ],
      "execution_count": 19,
      "outputs": []
    },
    {
      "cell_type": "code",
      "metadata": {
        "id": "7GwurCIdKHDG"
      },
      "source": [
        "stopwords = set(STOPWORDS)\n",
        "stopwords.add('will')\n",
        "worldcloud=WordCloud(stopwords=stopwords,background_color='white',max_words=500).generate(headline)"
      ],
      "execution_count": 20,
      "outputs": []
    },
    {
      "cell_type": "code",
      "metadata": {
        "colab": {
          "base_uri": "https://localhost:8080/",
          "height": 318
        },
        "id": "6015kap8QI_-",
        "outputId": "e340705f-4fbc-405d-d21b-38c5f785925e"
      },
      "source": [
        "# plot the WordCloud image                        \n",
        "plt.figure(figsize = (8, 8), facecolor = None) \n",
        "plt.imshow(worldcloud) \n",
        "plt.axis(\"off\") \n",
        "plt.tight_layout(pad = 0) \n",
        "  \n",
        "plt.show() "
      ],
      "execution_count": 21,
      "outputs": [
        {
          "output_type": "display_data",
          "data": {
            "image/png": "[encoded data removed]",
            "text/plain": [
              "<Figure size 576x576 with 1 Axes>"
            ]
          },
          "metadata": {
            "tags": [],
            "needs_background": "light"
          }
        }
      ]
    },
    {
      "cell_type": "code",
      "metadata": {
        "colab": {
          "base_uri": "https://localhost:8080/",
          "height": 191
        },
        "id": "Cz8-737PI5zp",
        "outputId": "0881a5af-93aa-4114-c062-55e4624dd174"
      },
      "source": [
        "# stock data\n",
        "df2.head()"
      ],
      "execution_count": 22,
      "outputs": [
        {
          "output_type": "execute_result",
          "data": {
            "text/html": [
              "<div>\n",
              "<style scoped>\n",
              "    .dataframe tbody tr th:only-of-type {\n",
              "        vertical-align: middle;\n",
              "    }\n",
              "\n",
              "    .dataframe tbody tr th {\n",
              "        vertical-align: top;\n",
              "    }\n",
              "\n",
              "    .dataframe thead th {\n",
              "        text-align: right;\n",
              "    }\n",
              "</style>\n",
              "<table border=\"1\" class=\"dataframe\">\n",
              "  <thead>\n",
              "    <tr style=\"text-align: right;\">\n",
              "      <th></th>\n",
              "      <th>Date</th>\n",
              "      <th>Open</th>\n",
              "      <th>High</th>\n",
              "      <th>Low</th>\n",
              "      <th>Close</th>\n",
              "      <th>Adj Close</th>\n",
              "      <th>Volume</th>\n",
              "    </tr>\n",
              "  </thead>\n",
              "  <tbody>\n",
              "    <tr>\n",
              "      <th>0</th>\n",
              "      <td>2018-01-18</td>\n",
              "      <td>10873.400391</td>\n",
              "      <td>10887.500000</td>\n",
              "      <td>10782.400391</td>\n",
              "      <td>10817.000000</td>\n",
              "      <td>10817.000000</td>\n",
              "      <td>312000.0</td>\n",
              "    </tr>\n",
              "    <tr>\n",
              "      <th>1</th>\n",
              "      <td>2018-01-19</td>\n",
              "      <td>10829.200195</td>\n",
              "      <td>10906.849609</td>\n",
              "      <td>10793.900391</td>\n",
              "      <td>10894.700195</td>\n",
              "      <td>10894.700195</td>\n",
              "      <td>207600.0</td>\n",
              "    </tr>\n",
              "    <tr>\n",
              "      <th>2</th>\n",
              "      <td>2018-01-22</td>\n",
              "      <td>10883.200195</td>\n",
              "      <td>10975.099609</td>\n",
              "      <td>10881.400391</td>\n",
              "      <td>10966.200195</td>\n",
              "      <td>10966.200195</td>\n",
              "      <td>231600.0</td>\n",
              "    </tr>\n",
              "    <tr>\n",
              "      <th>3</th>\n",
              "      <td>2018-01-23</td>\n",
              "      <td>10997.400391</td>\n",
              "      <td>11092.900391</td>\n",
              "      <td>10994.549805</td>\n",
              "      <td>11083.700195</td>\n",
              "      <td>11083.700195</td>\n",
              "      <td>284600.0</td>\n",
              "    </tr>\n",
              "    <tr>\n",
              "      <th>4</th>\n",
              "      <td>2018-01-24</td>\n",
              "      <td>11069.349609</td>\n",
              "      <td>11110.099609</td>\n",
              "      <td>11046.150391</td>\n",
              "      <td>11086.000000</td>\n",
              "      <td>11086.000000</td>\n",
              "      <td>283400.0</td>\n",
              "    </tr>\n",
              "  </tbody>\n",
              "</table>\n",
              "</div>"
            ],
            "text/plain": [
              "         Date          Open          High  ...         Close     Adj Close    Volume\n",
              "0  2018-01-18  10873.400391  10887.500000  ...  10817.000000  10817.000000  312000.0\n",
              "1  2018-01-19  10829.200195  10906.849609  ...  10894.700195  10894.700195  207600.0\n",
              "2  2018-01-22  10883.200195  10975.099609  ...  10966.200195  10966.200195  231600.0\n",
              "3  2018-01-23  10997.400391  11092.900391  ...  11083.700195  11083.700195  284600.0\n",
              "4  2018-01-24  11069.349609  11110.099609  ...  11086.000000  11086.000000  283400.0\n",
              "\n",
              "[5 rows x 7 columns]"
            ]
          },
          "metadata": {
            "tags": []
          },
          "execution_count": 22
        }
      ]
    },
    {
      "cell_type": "code",
      "metadata": {
        "colab": {
          "base_uri": "https://localhost:8080/"
        },
        "id": "Rdu2fcX3SO1l",
        "outputId": "c4832bc8-8e75-4b3b-daf3-7f0b81a8ff8a"
      },
      "source": [
        "df2.info()"
      ],
      "execution_count": 23,
      "outputs": [
        {
          "output_type": "stream",
          "text": [
            "<class 'pandas.core.frame.DataFrame'>\n",
            "RangeIndex: 696 entries, 0 to 695\n",
            "Data columns (total 7 columns):\n",
            " #   Column     Non-Null Count  Dtype  \n",
            "---  ------     --------------  -----  \n",
            " 0   Date       696 non-null    object \n",
            " 1   Open       694 non-null    float64\n",
            " 2   High       694 non-null    float64\n",
            " 3   Low        694 non-null    float64\n",
            " 4   Close      694 non-null    float64\n",
            " 5   Adj Close  694 non-null    float64\n",
            " 6   Volume     694 non-null    float64\n",
            "dtypes: float64(6), object(1)\n",
            "memory usage: 38.2+ KB\n"
          ],
          "name": "stdout"
        }
      ]
    },
    {
      "cell_type": "code",
      "metadata": {
        "id": "bN7BqBAgHisc"
      },
      "source": [
        "df2['Date'] = pd.to_datetime(df2['Date'], format='%Y-%m-%d')"
      ],
      "execution_count": 24,
      "outputs": []
    },
    {
      "cell_type": "code",
      "metadata": {
        "id": "q5LrBOi-j9t-"
      },
      "source": [
        "# Convert the date column from int64 to datetime\n",
        "#df2['Date'] = pd.to_datetime(df2.Date).dt.date\n",
        "#print(df2.head())"
      ],
      "execution_count": 25,
      "outputs": []
    },
    {
      "cell_type": "code",
      "metadata": {
        "colab": {
          "base_uri": "https://localhost:8080/"
        },
        "id": "lKCKTNWgSSpm",
        "outputId": "066add05-7899-4d27-92ae-61c2c16a9544"
      },
      "source": [
        "df2.describe"
      ],
      "execution_count": 26,
      "outputs": [
        {
          "output_type": "execute_result",
          "data": {
            "text/plain": [
              "<bound method NDFrame.describe of           Date          Open  ...     Adj Close    Volume\n",
              "0   2018-01-18  10873.400391  ...  10817.000000  312000.0\n",
              "1   2018-01-19  10829.200195  ...  10894.700195  207600.0\n",
              "2   2018-01-22  10883.200195  ...  10966.200195  231600.0\n",
              "3   2018-01-23  10997.400391  ...  11083.700195  284600.0\n",
              "4   2018-01-24  11069.349609  ...  11086.000000  283400.0\n",
              "..         ...           ...  ...           ...       ...\n",
              "691 2020-11-10  12556.400391  ...  12631.099609  847500.0\n",
              "692 2020-11-11  12680.599609  ...  12749.150391  880500.0\n",
              "693 2020-11-12  12702.150391  ...  12690.799805  622000.0\n",
              "694 2020-11-13  12659.700195  ...  12719.950195  513900.0\n",
              "695 2020-11-17  12932.500000  ...  12874.200195  707700.0\n",
              "\n",
              "[696 rows x 7 columns]>"
            ]
          },
          "metadata": {
            "tags": []
          },
          "execution_count": 26
        }
      ]
    },
    {
      "cell_type": "code",
      "metadata": {
        "colab": {
          "base_uri": "https://localhost:8080/"
        },
        "id": "Bnn9xXqdSXvX",
        "outputId": "2c46d2da-1d7f-478b-bf78-2cdf1050be30"
      },
      "source": [
        "df2.isna().sum()"
      ],
      "execution_count": 27,
      "outputs": [
        {
          "output_type": "execute_result",
          "data": {
            "text/plain": [
              "Date         0\n",
              "Open         2\n",
              "High         2\n",
              "Low          2\n",
              "Close        2\n",
              "Adj Close    2\n",
              "Volume       2\n",
              "dtype: int64"
            ]
          },
          "metadata": {
            "tags": []
          },
          "execution_count": 27
        }
      ]
    },
    {
      "cell_type": "code",
      "metadata": {
        "id": "7Fos0nIEU2qL"
      },
      "source": [
        "df2.dropna(inplace=True)"
      ],
      "execution_count": 28,
      "outputs": []
    },
    {
      "cell_type": "code",
      "metadata": {
        "colab": {
          "base_uri": "https://localhost:8080/"
        },
        "id": "jKebozwWU_Cl",
        "outputId": "a09d3bd6-b055-4575-f56a-94e5ae0112ac"
      },
      "source": [
        "df2.isna().sum()"
      ],
      "execution_count": 29,
      "outputs": [
        {
          "output_type": "execute_result",
          "data": {
            "text/plain": [
              "Date         0\n",
              "Open         0\n",
              "High         0\n",
              "Low          0\n",
              "Close        0\n",
              "Adj Close    0\n",
              "Volume       0\n",
              "dtype: int64"
            ]
          },
          "metadata": {
            "tags": []
          },
          "execution_count": 29
        }
      ]
    },
    {
      "cell_type": "code",
      "metadata": {
        "colab": {
          "base_uri": "https://localhost:8080/"
        },
        "id": "_FJmVeMdHRkq",
        "outputId": "f5da55cc-3f7b-4881-cf47-9136b9a30eee"
      },
      "source": [
        "df2.info()"
      ],
      "execution_count": 30,
      "outputs": [
        {
          "output_type": "stream",
          "text": [
            "<class 'pandas.core.frame.DataFrame'>\n",
            "Int64Index: 694 entries, 0 to 695\n",
            "Data columns (total 7 columns):\n",
            " #   Column     Non-Null Count  Dtype         \n",
            "---  ------     --------------  -----         \n",
            " 0   Date       694 non-null    datetime64[ns]\n",
            " 1   Open       694 non-null    float64       \n",
            " 2   High       694 non-null    float64       \n",
            " 3   Low        694 non-null    float64       \n",
            " 4   Close      694 non-null    float64       \n",
            " 5   Adj Close  694 non-null    float64       \n",
            " 6   Volume     694 non-null    float64       \n",
            "dtypes: datetime64[ns](1), float64(6)\n",
            "memory usage: 43.4 KB\n"
          ],
          "name": "stdout"
        }
      ]
    },
    {
      "cell_type": "markdown",
      "metadata": {
        "id": "QnDDF28KV2Nz"
      },
      "source": [
        "### Visualizing the Stock Data"
      ]
    },
    {
      "cell_type": "code",
      "metadata": {
        "colab": {
          "base_uri": "https://localhost:8080/",
          "height": 525
        },
        "id": "sg2WcSpxV_nr",
        "outputId": "615e9d2f-6f23-46d0-b2f0-8fbbd2cc7a08"
      },
      "source": [
        "plt.figure(figsize=(16,8))\n",
        "plt.title('STOCKS',fontsize=18)\n",
        "plt.xlabel('Days',fontsize=18)\n",
        "plt.ylabel('close',fontsize=18)\n",
        "plt.plot(df2['Close'])\n",
        "plt.show()"
      ],
      "execution_count": 31,
      "outputs": [
        {
          "output_type": "display_data",
          "data": {
            "image/png": "[encoded data removed]",
            "text/plain": [
              "<Figure size 1152x576 with 1 Axes>"
            ]
          },
          "metadata": {
            "tags": [],
            "needs_background": "light"
          }
        }
      ]
    },
    {
      "cell_type": "code",
      "metadata": {
        "colab": {
          "base_uri": "https://localhost:8080/",
          "height": 482
        },
        "id": "3UmEW4iMXbmn",
        "outputId": "e5affe2f-edf3-4a9a-9bb1-a91d4092513a"
      },
      "source": [
        "# stacked graph\n",
        "plt.figure(figsize=(16,8))\n",
        "a,b=200,20\n",
        "x= a +b *np.random.randn(200,3)\n",
        "n , bins, patches=plt.hist(x, 20, stacked=True)\n",
        "plt.show()"
      ],
      "execution_count": 32,
      "outputs": [
        {
          "output_type": "display_data",
          "data": {
            "image/png": "[encoded data removed]",
            "text/plain": [
              "<Figure size 1152x576 with 1 Axes>"
            ]
          },
          "metadata": {
            "tags": [],
            "needs_background": "light"
          }
        }
      ]
    },
    {
      "cell_type": "code",
      "metadata": {
        "id": "pxbq0cy1Ykh1"
      },
      "source": [
        "# split the data train and validation\n",
        "train=df2[:180]\n",
        "valid=df2[180:]"
      ],
      "execution_count": 33,
      "outputs": []
    },
    {
      "cell_type": "code",
      "metadata": {
        "id": "VIWUAt6HaVwH"
      },
      "source": [
        "training=train['Close']\n",
        "validation=valid['Close']"
      ],
      "execution_count": 34,
      "outputs": []
    },
    {
      "cell_type": "code",
      "metadata": {
        "colab": {
          "base_uri": "https://localhost:8080/"
        },
        "id": "KNSiETIYacTH",
        "outputId": "aff5fc0c-7348-4d49-d1a1-57512a885563"
      },
      "source": [
        "training.head()"
      ],
      "execution_count": 35,
      "outputs": [
        {
          "output_type": "execute_result",
          "data": {
            "text/plain": [
              "0    10817.000000\n",
              "1    10894.700195\n",
              "2    10966.200195\n",
              "3    11083.700195\n",
              "4    11086.000000\n",
              "Name: Close, dtype: float64"
            ]
          },
          "metadata": {
            "tags": []
          },
          "execution_count": 35
        }
      ]
    },
    {
      "cell_type": "markdown",
      "metadata": {
        "id": "xiut-bTIdCzC"
      },
      "source": [
        "## Using Vader for **Sentiment**"
      ]
    },
    {
      "cell_type": "code",
      "metadata": {
        "colab": {
          "base_uri": "https://localhost:8080/"
        },
        "id": "AfII7M4mdK3_",
        "outputId": "c40868ba-f4da-46ee-ac4c-91256b8b7b72"
      },
      "source": [
        "from nltk.sentiment.vader import SentimentIntensityAnalyzer"
      ],
      "execution_count": 36,
      "outputs": [
        {
          "output_type": "stream",
          "text": [
            "/usr/local/lib/python3.6/dist-packages/nltk/twitter/__init__.py:20: UserWarning:\n",
            "\n",
            "The twython library has not been installed. Some functionality from the twitter package will not be available.\n",
            "\n"
          ],
          "name": "stderr"
        }
      ]
    },
    {
      "cell_type": "code",
      "metadata": {
        "colab": {
          "base_uri": "https://localhost:8080/",
          "height": 191
        },
        "id": "56650FFMdjht",
        "outputId": "4faf5f63-fd7d-4681-b0da-05de97bfa10f"
      },
      "source": [
        "# Merge the data\n",
        "merge_data=df1.merge(df2,how='inner',on='Date',left_index=True)\n",
        "merge_data.head()"
      ],
      "execution_count": 37,
      "outputs": [
        {
          "output_type": "execute_result",
          "data": {
            "text/html": [
              "<div>\n",
              "<style scoped>\n",
              "    .dataframe tbody tr th:only-of-type {\n",
              "        vertical-align: middle;\n",
              "    }\n",
              "\n",
              "    .dataframe tbody tr th {\n",
              "        vertical-align: top;\n",
              "    }\n",
              "\n",
              "    .dataframe thead th {\n",
              "        text-align: right;\n",
              "    }\n",
              "</style>\n",
              "<table border=\"1\" class=\"dataframe\">\n",
              "  <thead>\n",
              "    <tr style=\"text-align: right;\">\n",
              "      <th></th>\n",
              "      <th>headline_category</th>\n",
              "      <th>headline_text</th>\n",
              "      <th>Date</th>\n",
              "      <th>Open</th>\n",
              "      <th>High</th>\n",
              "      <th>Low</th>\n",
              "      <th>Close</th>\n",
              "      <th>Adj Close</th>\n",
              "      <th>Volume</th>\n",
              "    </tr>\n",
              "  </thead>\n",
              "  <tbody>\n",
              "    <tr>\n",
              "      <th>0</th>\n",
              "      <td>entertainment.kannada.movies.news</td>\n",
              "      <td>yuga chandru turns actor kanaka</td>\n",
              "      <td>2018-01-18</td>\n",
              "      <td>10873.400391</td>\n",
              "      <td>10887.5</td>\n",
              "      <td>10782.400391</td>\n",
              "      <td>10817.0</td>\n",
              "      <td>10817.0</td>\n",
              "      <td>312000.0</td>\n",
              "    </tr>\n",
              "    <tr>\n",
              "      <th>0</th>\n",
              "      <td>entertainment.kannada.movies.news</td>\n",
              "      <td>charan raj creates anthem fear tagaru</td>\n",
              "      <td>2018-01-18</td>\n",
              "      <td>10873.400391</td>\n",
              "      <td>10887.5</td>\n",
              "      <td>10782.400391</td>\n",
              "      <td>10817.0</td>\n",
              "      <td>10817.0</td>\n",
              "      <td>312000.0</td>\n",
              "    </tr>\n",
              "    <tr>\n",
              "      <th>0</th>\n",
              "      <td>city.bengaluru</td>\n",
              "      <td>summer 2017</td>\n",
              "      <td>2018-01-18</td>\n",
              "      <td>10873.400391</td>\n",
              "      <td>10887.5</td>\n",
              "      <td>10782.400391</td>\n",
              "      <td>10817.0</td>\n",
              "      <td>10817.0</td>\n",
              "      <td>312000.0</td>\n",
              "    </tr>\n",
              "    <tr>\n",
              "      <th>0</th>\n",
              "      <td>entertainment.kannada.music</td>\n",
              "      <td>touch indian classical modern tunes</td>\n",
              "      <td>2018-01-18</td>\n",
              "      <td>10873.400391</td>\n",
              "      <td>10887.5</td>\n",
              "      <td>10782.400391</td>\n",
              "      <td>10817.0</td>\n",
              "      <td>10817.0</td>\n",
              "      <td>312000.0</td>\n",
              "    </tr>\n",
              "    <tr>\n",
              "      <th>0</th>\n",
              "      <td>city.bengaluru</td>\n",
              "      <td>bizarre beauty trends ready 2018</td>\n",
              "      <td>2018-01-18</td>\n",
              "      <td>10873.400391</td>\n",
              "      <td>10887.5</td>\n",
              "      <td>10782.400391</td>\n",
              "      <td>10817.0</td>\n",
              "      <td>10817.0</td>\n",
              "      <td>312000.0</td>\n",
              "    </tr>\n",
              "  </tbody>\n",
              "</table>\n",
              "</div>"
            ],
            "text/plain": [
              "                   headline_category  ...    Volume\n",
              "0  entertainment.kannada.movies.news  ...  312000.0\n",
              "0  entertainment.kannada.movies.news  ...  312000.0\n",
              "0                     city.bengaluru  ...  312000.0\n",
              "0        entertainment.kannada.music  ...  312000.0\n",
              "0                     city.bengaluru  ...  312000.0\n",
              "\n",
              "[5 rows x 9 columns]"
            ]
          },
          "metadata": {
            "tags": []
          },
          "execution_count": 37
        }
      ]
    },
    {
      "cell_type": "code",
      "metadata": {
        "colab": {
          "base_uri": "https://localhost:8080/"
        },
        "id": "luyzJAHgflG3",
        "outputId": "17aef4ce-6f4f-4e4f-ebbb-807c50e39ab4"
      },
      "source": [
        "merge_data.info()"
      ],
      "execution_count": 38,
      "outputs": [
        {
          "output_type": "stream",
          "text": [
            "<class 'pandas.core.frame.DataFrame'>\n",
            "Int64Index: 343580 entries, 0 to 597\n",
            "Data columns (total 9 columns):\n",
            " #   Column             Non-Null Count   Dtype         \n",
            "---  ------             --------------   -----         \n",
            " 0   headline_category  343580 non-null  object        \n",
            " 1   headline_text      343580 non-null  object        \n",
            " 2   Date               343580 non-null  datetime64[ns]\n",
            " 3   Open               343580 non-null  float64       \n",
            " 4   High               343580 non-null  float64       \n",
            " 5   Low                343580 non-null  float64       \n",
            " 6   Close              343580 non-null  float64       \n",
            " 7   Adj Close          343580 non-null  float64       \n",
            " 8   Volume             343580 non-null  float64       \n",
            "dtypes: datetime64[ns](1), float64(6), object(2)\n",
            "memory usage: 26.2+ MB\n"
          ],
          "name": "stdout"
        }
      ]
    },
    {
      "cell_type": "code",
      "metadata": {
        "id": "fwixeSWHILKG"
      },
      "source": [
        ""
      ],
      "execution_count": 38,
      "outputs": []
    },
    {
      "cell_type": "code",
      "metadata": {
        "colab": {
          "base_uri": "https://localhost:8080/"
        },
        "id": "Z8fb0gjrMr_y",
        "outputId": "3f365584-9f04-4afc-90cd-e84fd7cf030e"
      },
      "source": [
        "!pip install vaderSentiment"
      ],
      "execution_count": 39,
      "outputs": [
        {
          "output_type": "stream",
          "text": [
            "Collecting vaderSentiment\n",
            "\u001b[?25l  Downloading https://files.pythonhosted.org/packages/76/fc/310e16254683c1ed35eeb97386986d6c00bc29df17ce280aed64d55537e9/vaderSentiment-3.3.2-py2.py3-none-any.whl (125kB)\n",
            "\r\u001b[K     |██▋                             | 10kB 26.3MB/s eta 0:00:01\r\u001b[K     |█████▏                          | 20kB 33.6MB/s eta 0:00:01\r\u001b[K     |███████▉                        | 30kB 16.6MB/s eta 0:00:01\r\u001b[K     |██████████▍                     | 40kB 11.6MB/s eta 0:00:01\r\u001b[K     |█████████████                   | 51kB 7.6MB/s eta 0:00:01\r\u001b[K     |███████████████▋                | 61kB 8.9MB/s eta 0:00:01\r\u001b[K     |██████████████████▏             | 71kB 8.6MB/s eta 0:00:01\r\u001b[K     |████████████████████▉           | 81kB 9.4MB/s eta 0:00:01\r\u001b[K     |███████████████████████▍        | 92kB 8.3MB/s eta 0:00:01\r\u001b[K     |██████████████████████████      | 102kB 8.6MB/s eta 0:00:01\r\u001b[K     |████████████████████████████▋   | 112kB 8.6MB/s eta 0:00:01\r\u001b[K     |███████████████████████████████▏| 122kB 8.6MB/s eta 0:00:01\r\u001b[K     |████████████████████████████████| 133kB 8.6MB/s \n",
            "\u001b[?25hRequirement already satisfied: requests in /usr/local/lib/python3.6/dist-packages (from vaderSentiment) (2.23.0)\n",
            "Requirement already satisfied: chardet<4,>=3.0.2 in /usr/local/lib/python3.6/dist-packages (from requests->vaderSentiment) (3.0.4)\n",
            "Requirement already satisfied: certifi>=2017.4.17 in /usr/local/lib/python3.6/dist-packages (from requests->vaderSentiment) (2020.6.20)\n",
            "Requirement already satisfied: urllib3!=1.25.0,!=1.25.1,<1.26,>=1.21.1 in /usr/local/lib/python3.6/dist-packages (from requests->vaderSentiment) (1.24.3)\n",
            "Requirement already satisfied: idna<3,>=2.5 in /usr/local/lib/python3.6/dist-packages (from requests->vaderSentiment) (2.10)\n",
            "Installing collected packages: vaderSentiment\n",
            "Successfully installed vaderSentiment-3.3.2\n"
          ],
          "name": "stdout"
        }
      ]
    },
    {
      "cell_type": "code",
      "metadata": {
        "id": "Rww0QtJZKCs-"
      },
      "source": [
        "# NLTK VADER for sentiment analysis\n",
        "import nltk\n",
        "from vaderSentiment.vaderSentiment import SentimentIntensityAnalyzer\n",
        "from textblob import TextBlob\n",
        "import re\n",
        "\n"
      ],
      "execution_count": 40,
      "outputs": []
    },
    {
      "cell_type": "code",
      "metadata": {
        "colab": {
          "base_uri": "https://localhost:8080/",
          "height": 191
        },
        "id": "DF_GMS-OR5GF",
        "outputId": "21df8bff-9d88-411c-e4d4-b94135919442"
      },
      "source": [
        "merge_data.fillna(0, inplace=True)  \n",
        "\n",
        " #Resting index after merge\n",
        "merge_data.reset_index(inplace = True,drop=True) #Resting index after merge\n",
        "merge_data.head()"
      ],
      "execution_count": 41,
      "outputs": [
        {
          "output_type": "execute_result",
          "data": {
            "text/html": [
              "<div>\n",
              "<style scoped>\n",
              "    .dataframe tbody tr th:only-of-type {\n",
              "        vertical-align: middle;\n",
              "    }\n",
              "\n",
              "    .dataframe tbody tr th {\n",
              "        vertical-align: top;\n",
              "    }\n",
              "\n",
              "    .dataframe thead th {\n",
              "        text-align: right;\n",
              "    }\n",
              "</style>\n",
              "<table border=\"1\" class=\"dataframe\">\n",
              "  <thead>\n",
              "    <tr style=\"text-align: right;\">\n",
              "      <th></th>\n",
              "      <th>headline_category</th>\n",
              "      <th>headline_text</th>\n",
              "      <th>Date</th>\n",
              "      <th>Open</th>\n",
              "      <th>High</th>\n",
              "      <th>Low</th>\n",
              "      <th>Close</th>\n",
              "      <th>Adj Close</th>\n",
              "      <th>Volume</th>\n",
              "    </tr>\n",
              "  </thead>\n",
              "  <tbody>\n",
              "    <tr>\n",
              "      <th>0</th>\n",
              "      <td>entertainment.kannada.movies.news</td>\n",
              "      <td>yuga chandru turns actor kanaka</td>\n",
              "      <td>2018-01-18</td>\n",
              "      <td>10873.400391</td>\n",
              "      <td>10887.5</td>\n",
              "      <td>10782.400391</td>\n",
              "      <td>10817.0</td>\n",
              "      <td>10817.0</td>\n",
              "      <td>312000.0</td>\n",
              "    </tr>\n",
              "    <tr>\n",
              "      <th>1</th>\n",
              "      <td>entertainment.kannada.movies.news</td>\n",
              "      <td>charan raj creates anthem fear tagaru</td>\n",
              "      <td>2018-01-18</td>\n",
              "      <td>10873.400391</td>\n",
              "      <td>10887.5</td>\n",
              "      <td>10782.400391</td>\n",
              "      <td>10817.0</td>\n",
              "      <td>10817.0</td>\n",
              "      <td>312000.0</td>\n",
              "    </tr>\n",
              "    <tr>\n",
              "      <th>2</th>\n",
              "      <td>city.bengaluru</td>\n",
              "      <td>summer 2017</td>\n",
              "      <td>2018-01-18</td>\n",
              "      <td>10873.400391</td>\n",
              "      <td>10887.5</td>\n",
              "      <td>10782.400391</td>\n",
              "      <td>10817.0</td>\n",
              "      <td>10817.0</td>\n",
              "      <td>312000.0</td>\n",
              "    </tr>\n",
              "    <tr>\n",
              "      <th>3</th>\n",
              "      <td>entertainment.kannada.music</td>\n",
              "      <td>touch indian classical modern tunes</td>\n",
              "      <td>2018-01-18</td>\n",
              "      <td>10873.400391</td>\n",
              "      <td>10887.5</td>\n",
              "      <td>10782.400391</td>\n",
              "      <td>10817.0</td>\n",
              "      <td>10817.0</td>\n",
              "      <td>312000.0</td>\n",
              "    </tr>\n",
              "    <tr>\n",
              "      <th>4</th>\n",
              "      <td>city.bengaluru</td>\n",
              "      <td>bizarre beauty trends ready 2018</td>\n",
              "      <td>2018-01-18</td>\n",
              "      <td>10873.400391</td>\n",
              "      <td>10887.5</td>\n",
              "      <td>10782.400391</td>\n",
              "      <td>10817.0</td>\n",
              "      <td>10817.0</td>\n",
              "      <td>312000.0</td>\n",
              "    </tr>\n",
              "  </tbody>\n",
              "</table>\n",
              "</div>"
            ],
            "text/plain": [
              "                   headline_category  ...    Volume\n",
              "0  entertainment.kannada.movies.news  ...  312000.0\n",
              "1  entertainment.kannada.movies.news  ...  312000.0\n",
              "2                     city.bengaluru  ...  312000.0\n",
              "3        entertainment.kannada.music  ...  312000.0\n",
              "4                     city.bengaluru  ...  312000.0\n",
              "\n",
              "[5 rows x 9 columns]"
            ]
          },
          "metadata": {
            "tags": []
          },
          "execution_count": 41
        }
      ]
    },
    {
      "cell_type": "code",
      "metadata": {
        "colab": {
          "base_uri": "https://localhost:8080/"
        },
        "id": "6IiKGx1CSQhG",
        "outputId": "a409b1cd-efda-43eb-d03b-dde008d752d7"
      },
      "source": [
        "merge_data.shape"
      ],
      "execution_count": 42,
      "outputs": [
        {
          "output_type": "execute_result",
          "data": {
            "text/plain": [
              "(343580, 9)"
            ]
          },
          "metadata": {
            "tags": []
          },
          "execution_count": 42
        }
      ]
    },
    {
      "cell_type": "code",
      "metadata": {
        "id": "p_cojJ28K8c0"
      },
      "source": [
        "# Use these column names\n",
        "vader = SentimentIntensityAnalyzer()\n",
        "columns = ['Date', 'headline_text', 'Open', 'High','Low','Close','Volume']\n",
        "# Convert the list of lists into a DataFrame\n",
        "scored_news = pd.DataFrame(merge_data, columns=columns)\n",
        "\n",
        "# Iterate through the headlines and get the polarity scores\n",
        "scores = scored_news['headline_text'].apply(vader.polarity_scores)\n",
        "\n",
        "# Convert the list of dicts into a DataFrame\n",
        "scores_df = pd.DataFrame.from_records(scores)\n",
        "\n",
        "# Join the DataFrames\n",
        "scored_news = scored_news.join(scores_df)\n"
      ],
      "execution_count": 43,
      "outputs": []
    },
    {
      "cell_type": "code",
      "metadata": {
        "colab": {
          "base_uri": "https://localhost:8080/"
        },
        "id": "90UCkwj3PvbH",
        "outputId": "db4c7550-9cfe-480a-ed03-a03889fb4bd1"
      },
      "source": [
        "scores.head()"
      ],
      "execution_count": 44,
      "outputs": [
        {
          "output_type": "execute_result",
          "data": {
            "text/plain": [
              "0    {'neg': 0.0, 'neu': 1.0, 'pos': 0.0, 'compound...\n",
              "1    {'neg': 0.344, 'neu': 0.43, 'pos': 0.226, 'com...\n",
              "2    {'neg': 0.0, 'neu': 1.0, 'pos': 0.0, 'compound...\n",
              "3    {'neg': 0.0, 'neu': 1.0, 'pos': 0.0, 'compound...\n",
              "4    {'neg': 0.217, 'neu': 0.189, 'pos': 0.594, 'co...\n",
              "Name: headline_text, dtype: object"
            ]
          },
          "metadata": {
            "tags": []
          },
          "execution_count": 44
        }
      ]
    },
    {
      "cell_type": "code",
      "metadata": {
        "id": "YHS7SPZhOaCq"
      },
      "source": [
        "df=merge_data[columns]"
      ],
      "execution_count": 45,
      "outputs": []
    },
    {
      "cell_type": "code",
      "metadata": {
        "colab": {
          "base_uri": "https://localhost:8080/",
          "height": 391
        },
        "id": "tHdtKLhZO3Jk",
        "outputId": "f1f42904-cfd7-4f2e-be74-c48e44d2f157"
      },
      "source": [
        "df"
      ],
      "execution_count": 46,
      "outputs": [
        {
          "output_type": "execute_result",
          "data": {
            "text/html": [
              "<div>\n",
              "<style scoped>\n",
              "    .dataframe tbody tr th:only-of-type {\n",
              "        vertical-align: middle;\n",
              "    }\n",
              "\n",
              "    .dataframe tbody tr th {\n",
              "        vertical-align: top;\n",
              "    }\n",
              "\n",
              "    .dataframe thead th {\n",
              "        text-align: right;\n",
              "    }\n",
              "</style>\n",
              "<table border=\"1\" class=\"dataframe\">\n",
              "  <thead>\n",
              "    <tr style=\"text-align: right;\">\n",
              "      <th></th>\n",
              "      <th>Date</th>\n",
              "      <th>headline_text</th>\n",
              "      <th>Open</th>\n",
              "      <th>High</th>\n",
              "      <th>Low</th>\n",
              "      <th>Close</th>\n",
              "      <th>Volume</th>\n",
              "    </tr>\n",
              "  </thead>\n",
              "  <tbody>\n",
              "    <tr>\n",
              "      <th>0</th>\n",
              "      <td>2018-01-18</td>\n",
              "      <td>yuga chandru turns actor kanaka</td>\n",
              "      <td>10873.400391</td>\n",
              "      <td>10887.500000</td>\n",
              "      <td>10782.400391</td>\n",
              "      <td>10817.000000</td>\n",
              "      <td>312000.0</td>\n",
              "    </tr>\n",
              "    <tr>\n",
              "      <th>1</th>\n",
              "      <td>2018-01-18</td>\n",
              "      <td>charan raj creates anthem fear tagaru</td>\n",
              "      <td>10873.400391</td>\n",
              "      <td>10887.500000</td>\n",
              "      <td>10782.400391</td>\n",
              "      <td>10817.000000</td>\n",
              "      <td>312000.0</td>\n",
              "    </tr>\n",
              "    <tr>\n",
              "      <th>2</th>\n",
              "      <td>2018-01-18</td>\n",
              "      <td>summer 2017</td>\n",
              "      <td>10873.400391</td>\n",
              "      <td>10887.500000</td>\n",
              "      <td>10782.400391</td>\n",
              "      <td>10817.000000</td>\n",
              "      <td>312000.0</td>\n",
              "    </tr>\n",
              "    <tr>\n",
              "      <th>3</th>\n",
              "      <td>2018-01-18</td>\n",
              "      <td>touch indian classical modern tunes</td>\n",
              "      <td>10873.400391</td>\n",
              "      <td>10887.500000</td>\n",
              "      <td>10782.400391</td>\n",
              "      <td>10817.000000</td>\n",
              "      <td>312000.0</td>\n",
              "    </tr>\n",
              "    <tr>\n",
              "      <th>4</th>\n",
              "      <td>2018-01-18</td>\n",
              "      <td>bizarre beauty trends ready 2018</td>\n",
              "      <td>10873.400391</td>\n",
              "      <td>10887.500000</td>\n",
              "      <td>10782.400391</td>\n",
              "      <td>10817.000000</td>\n",
              "      <td>312000.0</td>\n",
              "    </tr>\n",
              "    <tr>\n",
              "      <th>...</th>\n",
              "      <td>...</td>\n",
              "      <td>...</td>\n",
              "      <td>...</td>\n",
              "      <td>...</td>\n",
              "      <td>...</td>\n",
              "      <td>...</td>\n",
              "      <td>...</td>\n",
              "    </tr>\n",
              "    <tr>\n",
              "      <th>343575</th>\n",
              "      <td>2020-06-30</td>\n",
              "      <td>tiktok removed 1 65 crore videos india</td>\n",
              "      <td>10382.599609</td>\n",
              "      <td>10401.049805</td>\n",
              "      <td>10267.349609</td>\n",
              "      <td>10302.099609</td>\n",
              "      <td>556200.0</td>\n",
              "    </tr>\n",
              "    <tr>\n",
              "      <th>343576</th>\n",
              "      <td>2020-06-30</td>\n",
              "      <td>apurva asrani calls alia bhatts mother soni ra...</td>\n",
              "      <td>10382.599609</td>\n",
              "      <td>10401.049805</td>\n",
              "      <td>10267.349609</td>\n",
              "      <td>10302.099609</td>\n",
              "      <td>556200.0</td>\n",
              "    </tr>\n",
              "    <tr>\n",
              "      <th>343577</th>\n",
              "      <td>2020-06-30</td>\n",
              "      <td>kangana ranaut gets doll version team shares m...</td>\n",
              "      <td>10382.599609</td>\n",
              "      <td>10401.049805</td>\n",
              "      <td>10267.349609</td>\n",
              "      <td>10302.099609</td>\n",
              "      <td>556200.0</td>\n",
              "    </tr>\n",
              "    <tr>\n",
              "      <th>343578</th>\n",
              "      <td>2020-06-30</td>\n",
              "      <td>meezaan jaffrey reminisces childhood days gran...</td>\n",
              "      <td>10382.599609</td>\n",
              "      <td>10401.049805</td>\n",
              "      <td>10267.349609</td>\n",
              "      <td>10302.099609</td>\n",
              "      <td>556200.0</td>\n",
              "    </tr>\n",
              "    <tr>\n",
              "      <th>343579</th>\n",
              "      <td>2020-06-30</td>\n",
              "      <td>prabhas20 titled radhe shyam prabhas pooja heg...</td>\n",
              "      <td>10382.599609</td>\n",
              "      <td>10401.049805</td>\n",
              "      <td>10267.349609</td>\n",
              "      <td>10302.099609</td>\n",
              "      <td>556200.0</td>\n",
              "    </tr>\n",
              "  </tbody>\n",
              "</table>\n",
              "<p>343580 rows × 7 columns</p>\n",
              "</div>"
            ],
            "text/plain": [
              "             Date  ...    Volume\n",
              "0      2018-01-18  ...  312000.0\n",
              "1      2018-01-18  ...  312000.0\n",
              "2      2018-01-18  ...  312000.0\n",
              "3      2018-01-18  ...  312000.0\n",
              "4      2018-01-18  ...  312000.0\n",
              "...           ...  ...       ...\n",
              "343575 2020-06-30  ...  556200.0\n",
              "343576 2020-06-30  ...  556200.0\n",
              "343577 2020-06-30  ...  556200.0\n",
              "343578 2020-06-30  ...  556200.0\n",
              "343579 2020-06-30  ...  556200.0\n",
              "\n",
              "[343580 rows x 7 columns]"
            ]
          },
          "metadata": {
            "tags": []
          },
          "execution_count": 46
        }
      ]
    },
    {
      "cell_type": "markdown",
      "metadata": {
        "id": "9rouoOL4jCOE"
      },
      "source": [
        "## Calculating Sentiment **Scores**"
      ]
    },
    {
      "cell_type": "code",
      "metadata": {
        "colab": {
          "base_uri": "https://localhost:8080/",
          "height": 191
        },
        "id": "IF-rsuvBjOG1",
        "outputId": "3c1a5bb0-5b41-4c40-9fbc-24f854bf74cc"
      },
      "source": [
        "# adding empty sentiment columns to df for later calculation\n",
        "df['compound'] = ''\n",
        "df['negative'] = ''\n",
        "df['neutral'] = ''\n",
        "df['positive'] = ''\n",
        "df.head()"
      ],
      "execution_count": 47,
      "outputs": [
        {
          "output_type": "execute_result",
          "data": {
            "text/html": [
              "<div>\n",
              "<style scoped>\n",
              "    .dataframe tbody tr th:only-of-type {\n",
              "        vertical-align: middle;\n",
              "    }\n",
              "\n",
              "    .dataframe tbody tr th {\n",
              "        vertical-align: top;\n",
              "    }\n",
              "\n",
              "    .dataframe thead th {\n",
              "        text-align: right;\n",
              "    }\n",
              "</style>\n",
              "<table border=\"1\" class=\"dataframe\">\n",
              "  <thead>\n",
              "    <tr style=\"text-align: right;\">\n",
              "      <th></th>\n",
              "      <th>Date</th>\n",
              "      <th>headline_text</th>\n",
              "      <th>Open</th>\n",
              "      <th>High</th>\n",
              "      <th>Low</th>\n",
              "      <th>Close</th>\n",
              "      <th>Volume</th>\n",
              "      <th>compound</th>\n",
              "      <th>negative</th>\n",
              "      <th>neutral</th>\n",
              "      <th>positive</th>\n",
              "    </tr>\n",
              "  </thead>\n",
              "  <tbody>\n",
              "    <tr>\n",
              "      <th>0</th>\n",
              "      <td>2018-01-18</td>\n",
              "      <td>yuga chandru turns actor kanaka</td>\n",
              "      <td>10873.400391</td>\n",
              "      <td>10887.5</td>\n",
              "      <td>10782.400391</td>\n",
              "      <td>10817.0</td>\n",
              "      <td>312000.0</td>\n",
              "      <td></td>\n",
              "      <td></td>\n",
              "      <td></td>\n",
              "      <td></td>\n",
              "    </tr>\n",
              "    <tr>\n",
              "      <th>1</th>\n",
              "      <td>2018-01-18</td>\n",
              "      <td>charan raj creates anthem fear tagaru</td>\n",
              "      <td>10873.400391</td>\n",
              "      <td>10887.5</td>\n",
              "      <td>10782.400391</td>\n",
              "      <td>10817.0</td>\n",
              "      <td>312000.0</td>\n",
              "      <td></td>\n",
              "      <td></td>\n",
              "      <td></td>\n",
              "      <td></td>\n",
              "    </tr>\n",
              "    <tr>\n",
              "      <th>2</th>\n",
              "      <td>2018-01-18</td>\n",
              "      <td>summer 2017</td>\n",
              "      <td>10873.400391</td>\n",
              "      <td>10887.5</td>\n",
              "      <td>10782.400391</td>\n",
              "      <td>10817.0</td>\n",
              "      <td>312000.0</td>\n",
              "      <td></td>\n",
              "      <td></td>\n",
              "      <td></td>\n",
              "      <td></td>\n",
              "    </tr>\n",
              "    <tr>\n",
              "      <th>3</th>\n",
              "      <td>2018-01-18</td>\n",
              "      <td>touch indian classical modern tunes</td>\n",
              "      <td>10873.400391</td>\n",
              "      <td>10887.5</td>\n",
              "      <td>10782.400391</td>\n",
              "      <td>10817.0</td>\n",
              "      <td>312000.0</td>\n",
              "      <td></td>\n",
              "      <td></td>\n",
              "      <td></td>\n",
              "      <td></td>\n",
              "    </tr>\n",
              "    <tr>\n",
              "      <th>4</th>\n",
              "      <td>2018-01-18</td>\n",
              "      <td>bizarre beauty trends ready 2018</td>\n",
              "      <td>10873.400391</td>\n",
              "      <td>10887.5</td>\n",
              "      <td>10782.400391</td>\n",
              "      <td>10817.0</td>\n",
              "      <td>312000.0</td>\n",
              "      <td></td>\n",
              "      <td></td>\n",
              "      <td></td>\n",
              "      <td></td>\n",
              "    </tr>\n",
              "  </tbody>\n",
              "</table>\n",
              "</div>"
            ],
            "text/plain": [
              "        Date                          headline_text  ...  neutral  positive\n",
              "0 2018-01-18        yuga chandru turns actor kanaka  ...                   \n",
              "1 2018-01-18  charan raj creates anthem fear tagaru  ...                   \n",
              "2 2018-01-18                            summer 2017  ...                   \n",
              "3 2018-01-18    touch indian classical modern tunes  ...                   \n",
              "4 2018-01-18       bizarre beauty trends ready 2018  ...                   \n",
              "\n",
              "[5 rows x 11 columns]"
            ]
          },
          "metadata": {
            "tags": []
          },
          "execution_count": 47
        }
      ]
    },
    {
      "cell_type": "code",
      "metadata": {
        "colab": {
          "base_uri": "https://localhost:8080/",
          "height": 191
        },
        "id": "EG8SQ-x2jwhH",
        "outputId": "bcb2317d-6f85-4209-ac61-92e7b1f24aac"
      },
      "source": [
        "# importing requires libraries to analyze the sentiments\n",
        "from nltk.sentiment.vader import SentimentIntensityAnalyzer\n",
        "import unicodedata\n",
        "\n",
        "# instantiating the Sentiment Analyzer\n",
        "#vader = SentimentIntensityAnalyzer()\n",
        "\n",
        "# calculating sentiment scores\n",
        "df['compound'] = df['headline_text'].apply(lambda x: vader.polarity_scores(x)['compound'])\n",
        "df['negative'] = df['headline_text'].apply(lambda x: vader.polarity_scores(x)['neg'])\n",
        "df['neutral'] = df['headline_text'].apply(lambda x: vader.polarity_scores(x)['neu'])\n",
        "df['positive'] = df['headline_text'].apply(lambda x: vader.polarity_scores(x)['pos'])\n",
        "\n",
        "# displaying the stock data\n",
        "df.head()"
      ],
      "execution_count": 48,
      "outputs": [
        {
          "output_type": "execute_result",
          "data": {
            "text/html": [
              "<div>\n",
              "<style scoped>\n",
              "    .dataframe tbody tr th:only-of-type {\n",
              "        vertical-align: middle;\n",
              "    }\n",
              "\n",
              "    .dataframe tbody tr th {\n",
              "        vertical-align: top;\n",
              "    }\n",
              "\n",
              "    .dataframe thead th {\n",
              "        text-align: right;\n",
              "    }\n",
              "</style>\n",
              "<table border=\"1\" class=\"dataframe\">\n",
              "  <thead>\n",
              "    <tr style=\"text-align: right;\">\n",
              "      <th></th>\n",
              "      <th>Date</th>\n",
              "      <th>headline_text</th>\n",
              "      <th>Open</th>\n",
              "      <th>High</th>\n",
              "      <th>Low</th>\n",
              "      <th>Close</th>\n",
              "      <th>Volume</th>\n",
              "      <th>compound</th>\n",
              "      <th>negative</th>\n",
              "      <th>neutral</th>\n",
              "      <th>positive</th>\n",
              "    </tr>\n",
              "  </thead>\n",
              "  <tbody>\n",
              "    <tr>\n",
              "      <th>0</th>\n",
              "      <td>2018-01-18</td>\n",
              "      <td>yuga chandru turns actor kanaka</td>\n",
              "      <td>10873.400391</td>\n",
              "      <td>10887.5</td>\n",
              "      <td>10782.400391</td>\n",
              "      <td>10817.0</td>\n",
              "      <td>312000.0</td>\n",
              "      <td>0.0000</td>\n",
              "      <td>0.000</td>\n",
              "      <td>1.000</td>\n",
              "      <td>0.000</td>\n",
              "    </tr>\n",
              "    <tr>\n",
              "      <th>1</th>\n",
              "      <td>2018-01-18</td>\n",
              "      <td>charan raj creates anthem fear tagaru</td>\n",
              "      <td>10873.400391</td>\n",
              "      <td>10887.5</td>\n",
              "      <td>10782.400391</td>\n",
              "      <td>10817.0</td>\n",
              "      <td>312000.0</td>\n",
              "      <td>-0.2732</td>\n",
              "      <td>0.344</td>\n",
              "      <td>0.430</td>\n",
              "      <td>0.226</td>\n",
              "    </tr>\n",
              "    <tr>\n",
              "      <th>2</th>\n",
              "      <td>2018-01-18</td>\n",
              "      <td>summer 2017</td>\n",
              "      <td>10873.400391</td>\n",
              "      <td>10887.5</td>\n",
              "      <td>10782.400391</td>\n",
              "      <td>10817.0</td>\n",
              "      <td>312000.0</td>\n",
              "      <td>0.0000</td>\n",
              "      <td>0.000</td>\n",
              "      <td>1.000</td>\n",
              "      <td>0.000</td>\n",
              "    </tr>\n",
              "    <tr>\n",
              "      <th>3</th>\n",
              "      <td>2018-01-18</td>\n",
              "      <td>touch indian classical modern tunes</td>\n",
              "      <td>10873.400391</td>\n",
              "      <td>10887.5</td>\n",
              "      <td>10782.400391</td>\n",
              "      <td>10817.0</td>\n",
              "      <td>312000.0</td>\n",
              "      <td>0.0000</td>\n",
              "      <td>0.000</td>\n",
              "      <td>1.000</td>\n",
              "      <td>0.000</td>\n",
              "    </tr>\n",
              "    <tr>\n",
              "      <th>4</th>\n",
              "      <td>2018-01-18</td>\n",
              "      <td>bizarre beauty trends ready 2018</td>\n",
              "      <td>10873.400391</td>\n",
              "      <td>10887.5</td>\n",
              "      <td>10782.400391</td>\n",
              "      <td>10817.0</td>\n",
              "      <td>312000.0</td>\n",
              "      <td>0.6124</td>\n",
              "      <td>0.217</td>\n",
              "      <td>0.189</td>\n",
              "      <td>0.594</td>\n",
              "    </tr>\n",
              "  </tbody>\n",
              "</table>\n",
              "</div>"
            ],
            "text/plain": [
              "        Date                          headline_text  ...  neutral  positive\n",
              "0 2018-01-18        yuga chandru turns actor kanaka  ...    1.000     0.000\n",
              "1 2018-01-18  charan raj creates anthem fear tagaru  ...    0.430     0.226\n",
              "2 2018-01-18                            summer 2017  ...    1.000     0.000\n",
              "3 2018-01-18    touch indian classical modern tunes  ...    1.000     0.000\n",
              "4 2018-01-18       bizarre beauty trends ready 2018  ...    0.189     0.594\n",
              "\n",
              "[5 rows x 11 columns]"
            ]
          },
          "metadata": {
            "tags": []
          },
          "execution_count": 48
        }
      ]
    },
    {
      "cell_type": "code",
      "metadata": {
        "colab": {
          "base_uri": "https://localhost:8080/",
          "height": 191
        },
        "id": "iATqFr911i1u",
        "outputId": "f9842b2f-88de-4fee-d5aa-9ff30ffb2875"
      },
      "source": [
        "# dropping the 'headline_text' which is unwanted now\n",
        "df.drop(['headline_text'], inplace=True, axis=1)\n",
        "\n",
        "# rearranging the columns of the whole stock_data\n",
        "df = df[['Close', 'compound', 'negative', 'neutral', 'positive', 'Open', 'High', 'Low', 'Volume']]\n",
        "\n",
        "# displaying the final stock_data\n",
        "df.head()"
      ],
      "execution_count": 49,
      "outputs": [
        {
          "output_type": "execute_result",
          "data": {
            "text/html": [
              "<div>\n",
              "<style scoped>\n",
              "    .dataframe tbody tr th:only-of-type {\n",
              "        vertical-align: middle;\n",
              "    }\n",
              "\n",
              "    .dataframe tbody tr th {\n",
              "        vertical-align: top;\n",
              "    }\n",
              "\n",
              "    .dataframe thead th {\n",
              "        text-align: right;\n",
              "    }\n",
              "</style>\n",
              "<table border=\"1\" class=\"dataframe\">\n",
              "  <thead>\n",
              "    <tr style=\"text-align: right;\">\n",
              "      <th></th>\n",
              "      <th>Close</th>\n",
              "      <th>compound</th>\n",
              "      <th>negative</th>\n",
              "      <th>neutral</th>\n",
              "      <th>positive</th>\n",
              "      <th>Open</th>\n",
              "      <th>High</th>\n",
              "      <th>Low</th>\n",
              "      <th>Volume</th>\n",
              "    </tr>\n",
              "  </thead>\n",
              "  <tbody>\n",
              "    <tr>\n",
              "      <th>0</th>\n",
              "      <td>10817.0</td>\n",
              "      <td>0.0000</td>\n",
              "      <td>0.000</td>\n",
              "      <td>1.000</td>\n",
              "      <td>0.000</td>\n",
              "      <td>10873.400391</td>\n",
              "      <td>10887.5</td>\n",
              "      <td>10782.400391</td>\n",
              "      <td>312000.0</td>\n",
              "    </tr>\n",
              "    <tr>\n",
              "      <th>1</th>\n",
              "      <td>10817.0</td>\n",
              "      <td>-0.2732</td>\n",
              "      <td>0.344</td>\n",
              "      <td>0.430</td>\n",
              "      <td>0.226</td>\n",
              "      <td>10873.400391</td>\n",
              "      <td>10887.5</td>\n",
              "      <td>10782.400391</td>\n",
              "      <td>312000.0</td>\n",
              "    </tr>\n",
              "    <tr>\n",
              "      <th>2</th>\n",
              "      <td>10817.0</td>\n",
              "      <td>0.0000</td>\n",
              "      <td>0.000</td>\n",
              "      <td>1.000</td>\n",
              "      <td>0.000</td>\n",
              "      <td>10873.400391</td>\n",
              "      <td>10887.5</td>\n",
              "      <td>10782.400391</td>\n",
              "      <td>312000.0</td>\n",
              "    </tr>\n",
              "    <tr>\n",
              "      <th>3</th>\n",
              "      <td>10817.0</td>\n",
              "      <td>0.0000</td>\n",
              "      <td>0.000</td>\n",
              "      <td>1.000</td>\n",
              "      <td>0.000</td>\n",
              "      <td>10873.400391</td>\n",
              "      <td>10887.5</td>\n",
              "      <td>10782.400391</td>\n",
              "      <td>312000.0</td>\n",
              "    </tr>\n",
              "    <tr>\n",
              "      <th>4</th>\n",
              "      <td>10817.0</td>\n",
              "      <td>0.6124</td>\n",
              "      <td>0.217</td>\n",
              "      <td>0.189</td>\n",
              "      <td>0.594</td>\n",
              "      <td>10873.400391</td>\n",
              "      <td>10887.5</td>\n",
              "      <td>10782.400391</td>\n",
              "      <td>312000.0</td>\n",
              "    </tr>\n",
              "  </tbody>\n",
              "</table>\n",
              "</div>"
            ],
            "text/plain": [
              "     Close  compound  negative  ...     High           Low    Volume\n",
              "0  10817.0    0.0000     0.000  ...  10887.5  10782.400391  312000.0\n",
              "1  10817.0   -0.2732     0.344  ...  10887.5  10782.400391  312000.0\n",
              "2  10817.0    0.0000     0.000  ...  10887.5  10782.400391  312000.0\n",
              "3  10817.0    0.0000     0.000  ...  10887.5  10782.400391  312000.0\n",
              "4  10817.0    0.6124     0.217  ...  10887.5  10782.400391  312000.0\n",
              "\n",
              "[5 rows x 9 columns]"
            ]
          },
          "metadata": {
            "tags": []
          },
          "execution_count": 49
        }
      ]
    },
    {
      "cell_type": "code",
      "metadata": {
        "colab": {
          "base_uri": "https://localhost:8080/",
          "height": 277
        },
        "id": "IJkRXXrA46oo",
        "outputId": "6ce70a8e-2b57-4a4a-a274-e5521095e35f"
      },
      "source": [
        "# displaying stock_data statistics\n",
        "df.describe(include='all')"
      ],
      "execution_count": 50,
      "outputs": [
        {
          "output_type": "execute_result",
          "data": {
            "text/html": [
              "<div>\n",
              "<style scoped>\n",
              "    .dataframe tbody tr th:only-of-type {\n",
              "        vertical-align: middle;\n",
              "    }\n",
              "\n",
              "    .dataframe tbody tr th {\n",
              "        vertical-align: top;\n",
              "    }\n",
              "\n",
              "    .dataframe thead th {\n",
              "        text-align: right;\n",
              "    }\n",
              "</style>\n",
              "<table border=\"1\" class=\"dataframe\">\n",
              "  <thead>\n",
              "    <tr style=\"text-align: right;\">\n",
              "      <th></th>\n",
              "      <th>Close</th>\n",
              "      <th>compound</th>\n",
              "      <th>negative</th>\n",
              "      <th>neutral</th>\n",
              "      <th>positive</th>\n",
              "      <th>Open</th>\n",
              "      <th>High</th>\n",
              "      <th>Low</th>\n",
              "      <th>Volume</th>\n",
              "    </tr>\n",
              "  </thead>\n",
              "  <tbody>\n",
              "    <tr>\n",
              "      <th>count</th>\n",
              "      <td>343580.000000</td>\n",
              "      <td>343580.000000</td>\n",
              "      <td>343580.000000</td>\n",
              "      <td>343580.000000</td>\n",
              "      <td>343580.000000</td>\n",
              "      <td>343580.000000</td>\n",
              "      <td>343580.000000</td>\n",
              "      <td>343580.000000</td>\n",
              "      <td>3.435800e+05</td>\n",
              "    </tr>\n",
              "    <tr>\n",
              "      <th>mean</th>\n",
              "      <td>10926.916690</td>\n",
              "      <td>-0.068013</td>\n",
              "      <td>0.138949</td>\n",
              "      <td>0.775991</td>\n",
              "      <td>0.085011</td>\n",
              "      <td>10938.553428</td>\n",
              "      <td>10995.103213</td>\n",
              "      <td>10859.960419</td>\n",
              "      <td>4.150945e+05</td>\n",
              "    </tr>\n",
              "    <tr>\n",
              "      <th>std</th>\n",
              "      <td>804.481194</td>\n",
              "      <td>0.355765</td>\n",
              "      <td>0.207643</td>\n",
              "      <td>0.233223</td>\n",
              "      <td>0.158453</td>\n",
              "      <td>807.606351</td>\n",
              "      <td>781.513456</td>\n",
              "      <td>828.122037</td>\n",
              "      <td>2.441956e+05</td>\n",
              "    </tr>\n",
              "    <tr>\n",
              "      <th>min</th>\n",
              "      <td>7610.250000</td>\n",
              "      <td>-0.960700</td>\n",
              "      <td>0.000000</td>\n",
              "      <td>0.000000</td>\n",
              "      <td>0.000000</td>\n",
              "      <td>7735.149902</td>\n",
              "      <td>8036.950195</td>\n",
              "      <td>7511.100098</td>\n",
              "      <td>0.000000e+00</td>\n",
              "    </tr>\n",
              "    <tr>\n",
              "      <th>25%</th>\n",
              "      <td>10539.750000</td>\n",
              "      <td>-0.318200</td>\n",
              "      <td>0.000000</td>\n",
              "      <td>0.597000</td>\n",
              "      <td>0.000000</td>\n",
              "      <td>10558.750000</td>\n",
              "      <td>10604.900391</td>\n",
              "      <td>10489.750000</td>\n",
              "      <td>2.417000e+05</td>\n",
              "    </tr>\n",
              "    <tr>\n",
              "      <th>50%</th>\n",
              "      <td>10886.799805</td>\n",
              "      <td>0.000000</td>\n",
              "      <td>0.000000</td>\n",
              "      <td>0.780000</td>\n",
              "      <td>0.000000</td>\n",
              "      <td>10895.799805</td>\n",
              "      <td>10941.200195</td>\n",
              "      <td>10823.799805</td>\n",
              "      <td>3.428000e+05</td>\n",
              "    </tr>\n",
              "    <tr>\n",
              "      <th>75%</th>\n",
              "      <td>11552.500000</td>\n",
              "      <td>0.000000</td>\n",
              "      <td>0.292000</td>\n",
              "      <td>1.000000</td>\n",
              "      <td>0.141000</td>\n",
              "      <td>11561.450195</td>\n",
              "      <td>11599.000000</td>\n",
              "      <td>11484.450195</td>\n",
              "      <td>5.500000e+05</td>\n",
              "    </tr>\n",
              "    <tr>\n",
              "      <th>max</th>\n",
              "      <td>12362.299805</td>\n",
              "      <td>0.956900</td>\n",
              "      <td>1.000000</td>\n",
              "      <td>1.000000</td>\n",
              "      <td>1.000000</td>\n",
              "      <td>12430.500000</td>\n",
              "      <td>12430.500000</td>\n",
              "      <td>12321.400391</td>\n",
              "      <td>1.811000e+06</td>\n",
              "    </tr>\n",
              "  </tbody>\n",
              "</table>\n",
              "</div>"
            ],
            "text/plain": [
              "               Close       compound  ...            Low        Volume\n",
              "count  343580.000000  343580.000000  ...  343580.000000  3.435800e+05\n",
              "mean    10926.916690      -0.068013  ...   10859.960419  4.150945e+05\n",
              "std       804.481194       0.355765  ...     828.122037  2.441956e+05\n",
              "min      7610.250000      -0.960700  ...    7511.100098  0.000000e+00\n",
              "25%     10539.750000      -0.318200  ...   10489.750000  2.417000e+05\n",
              "50%     10886.799805       0.000000  ...   10823.799805  3.428000e+05\n",
              "75%     11552.500000       0.000000  ...   11484.450195  5.500000e+05\n",
              "max     12362.299805       0.956900  ...   12321.400391  1.811000e+06\n",
              "\n",
              "[8 rows x 9 columns]"
            ]
          },
          "metadata": {
            "tags": []
          },
          "execution_count": 50
        }
      ]
    },
    {
      "cell_type": "code",
      "metadata": {
        "colab": {
          "base_uri": "https://localhost:8080/"
        },
        "id": "YXZznpwl5Mic",
        "outputId": "192d1ffc-44a3-494d-a5a7-2762060523bd"
      },
      "source": [
        "# displaying df information\n",
        "df.info()"
      ],
      "execution_count": 51,
      "outputs": [
        {
          "output_type": "stream",
          "text": [
            "<class 'pandas.core.frame.DataFrame'>\n",
            "RangeIndex: 343580 entries, 0 to 343579\n",
            "Data columns (total 9 columns):\n",
            " #   Column    Non-Null Count   Dtype  \n",
            "---  ------    --------------   -----  \n",
            " 0   Close     343580 non-null  float64\n",
            " 1   compound  343580 non-null  float64\n",
            " 2   negative  343580 non-null  float64\n",
            " 3   neutral   343580 non-null  float64\n",
            " 4   positive  343580 non-null  float64\n",
            " 5   Open      343580 non-null  float64\n",
            " 6   High      343580 non-null  float64\n",
            " 7   Low       343580 non-null  float64\n",
            " 8   Volume    343580 non-null  float64\n",
            "dtypes: float64(9)\n",
            "memory usage: 23.6 MB\n"
          ],
          "name": "stdout"
        }
      ]
    },
    {
      "cell_type": "code",
      "metadata": {
        "colab": {
          "base_uri": "https://localhost:8080/",
          "height": 637
        },
        "id": "guvEdxho5TNJ",
        "outputId": "c2e2a4d2-8584-471e-dc9f-17b9e3b7acc7"
      },
      "source": [
        "# EDA on DF\n",
        "# setting figure size\n",
        "plt.figure(figsize=(16,10))\n",
        "\n",
        "# plotting close price\n",
        "df['Close'].plot()\n",
        "\n",
        "# setting plot title, x and y labels\n",
        "plt.title(\"Close Price\")\n",
        "plt.xlabel('Date')\n",
        "plt.ylabel('Close Price ($)')"
      ],
      "execution_count": 52,
      "outputs": [
        {
          "output_type": "execute_result",
          "data": {
            "text/plain": [
              "Text(0, 0.5, 'Close Price ($)')"
            ]
          },
          "metadata": {
            "tags": []
          },
          "execution_count": 52
        },
        {
          "output_type": "display_data",
          "data": {
            "image/png": "[encoded data removed]",
            "text/plain": [
              "<Figure size 1152x720 with 1 Axes>"
            ]
          },
          "metadata": {
            "tags": [],
            "needs_background": "light"
          }
        }
      ]
    },
    {
      "cell_type": "code",
      "metadata": {
        "colab": {
          "base_uri": "https://localhost:8080/",
          "height": 608
        },
        "id": "jDaJx9JX5fIV",
        "outputId": "670c0ba6-9b3b-4c79-beca-55e6f5fa8e13"
      },
      "source": [
        "# setting figure size\n",
        "plt.figure(figsize=(16,10))\n",
        "\n",
        "# plotting the close price and a 30-day rolling mean of close price\n",
        "df['Close'].plot()\n",
        "df.rolling(window=30).mean()['Close'].plot()"
      ],
      "execution_count": 53,
      "outputs": [
        {
          "output_type": "execute_result",
          "data": {
            "text/plain": [
              "<matplotlib.axes._subplots.AxesSubplot at 0x7fc7902c5978>"
            ]
          },
          "metadata": {
            "tags": []
          },
          "execution_count": 53
        },
        {
          "output_type": "display_data",
          "data": {
            "image/png": "[encoded data removed]",
            "text/plain": [
              "<Figure size 1152x720 with 1 Axes>"
            ]
          },
          "metadata": {
            "tags": [],
            "needs_background": "light"
          }
        }
      ]
    },
    {
      "cell_type": "code",
      "metadata": {
        "id": "zg_Q-dM15rP7"
      },
      "source": [
        ""
      ],
      "execution_count": 53,
      "outputs": []
    },
    {
      "cell_type": "markdown",
      "metadata": {
        "id": "bVkkPHhR5ym0"
      },
      "source": [
        "## Data Preparation for Modelling"
      ]
    },
    {
      "cell_type": "code",
      "metadata": {
        "colab": {
          "base_uri": "https://localhost:8080/"
        },
        "id": "DhKbAfok50_9",
        "outputId": "180303cd-8d18-40d7-b996-ec6fddae1735"
      },
      "source": [
        "# calculating data_to_use\n",
        "percentage_of_data = 1.0\n",
        "data_to_use = int(percentage_of_data*(len(df)-1))\n",
        "\n",
        "# using 80% of data for training\n",
        "train_end = int(data_to_use*0.8)\n",
        "total_data = len(df)\n",
        "start = total_data - data_to_use\n",
        "\n",
        "# printing number of records in the training and test datasets\n",
        "print(\"Number of records in Training Data:\", train_end)\n",
        "print(\"Number of records in Test Data:\", total_data - train_end)"
      ],
      "execution_count": 54,
      "outputs": [
        {
          "output_type": "stream",
          "text": [
            "Number of records in Training Data: 274863\n",
            "Number of records in Test Data: 68717\n"
          ],
          "name": "stdout"
        }
      ]
    },
    {
      "cell_type": "code",
      "metadata": {
        "colab": {
          "base_uri": "https://localhost:8080/"
        },
        "id": "SHRSlC0q6H0h",
        "outputId": "438bc21c-91a6-41bf-834f-93a8e1fc0712"
      },
      "source": [
        "# predicting one step ahead\n",
        "steps_to_predict = 1\n",
        "\n",
        "# capturing data to be used for each column\n",
        "close_price = df.iloc[start:total_data,0] #close\n",
        "compound = df.iloc[start:total_data,1] #compound\n",
        "negative = df.iloc[start:total_data,2] #neg\n",
        "neutral = df.iloc[start:total_data,3] #neu\n",
        "positive = df.iloc[start:total_data,4] #pos\n",
        "open_price = df.iloc[start:total_data,5] #open\n",
        "high = df.iloc[start:total_data,6] #high\n",
        "low = df.iloc[start:total_data,7] #low\n",
        "volume = df.iloc[start:total_data,8] #volume\n",
        "\n",
        "# printing close price\n",
        "print(\"Close Price:\")\n",
        "close_price"
      ],
      "execution_count": 55,
      "outputs": [
        {
          "output_type": "stream",
          "text": [
            "Close Price:\n"
          ],
          "name": "stdout"
        },
        {
          "output_type": "execute_result",
          "data": {
            "text/plain": [
              "1         10817.000000\n",
              "2         10817.000000\n",
              "3         10817.000000\n",
              "4         10817.000000\n",
              "5         10817.000000\n",
              "              ...     \n",
              "343575    10302.099609\n",
              "343576    10302.099609\n",
              "343577    10302.099609\n",
              "343578    10302.099609\n",
              "343579    10302.099609\n",
              "Name: Close, Length: 343579, dtype: float64"
            ]
          },
          "metadata": {
            "tags": []
          },
          "execution_count": 55
        }
      ]
    },
    {
      "cell_type": "code",
      "metadata": {
        "colab": {
          "base_uri": "https://localhost:8080/",
          "height": 335
        },
        "id": "rI-Gm83m6boL",
        "outputId": "d88ed9df-8cd0-4712-db7a-82609a10bf1d"
      },
      "source": [
        "# shifting next day close\n",
        "close_price_shifted = close_price.shift(-1) \n",
        "\n",
        "# shifting next day compound\n",
        "compound_shifted = compound.shift(-1) \n",
        "\n",
        "# concatenating the captured training data into a dataframe\n",
        "data = pd.concat([close_price, close_price_shifted, compound, compound_shifted, volume, open_price, high, low], axis=1)\n",
        "\n",
        "# setting column names of the revised stock data\n",
        "data.columns = ['close_price', 'close_price_shifted', 'compound', 'compound_shifted','volume', 'open_price', 'high', 'low']\n",
        "\n",
        "# dropping nulls\n",
        "data = data.dropna()    \n",
        "data.head(10)"
      ],
      "execution_count": 56,
      "outputs": [
        {
          "output_type": "execute_result",
          "data": {
            "text/html": [
              "<div>\n",
              "<style scoped>\n",
              "    .dataframe tbody tr th:only-of-type {\n",
              "        vertical-align: middle;\n",
              "    }\n",
              "\n",
              "    .dataframe tbody tr th {\n",
              "        vertical-align: top;\n",
              "    }\n",
              "\n",
              "    .dataframe thead th {\n",
              "        text-align: right;\n",
              "    }\n",
              "</style>\n",
              "<table border=\"1\" class=\"dataframe\">\n",
              "  <thead>\n",
              "    <tr style=\"text-align: right;\">\n",
              "      <th></th>\n",
              "      <th>close_price</th>\n",
              "      <th>close_price_shifted</th>\n",
              "      <th>compound</th>\n",
              "      <th>compound_shifted</th>\n",
              "      <th>volume</th>\n",
              "      <th>open_price</th>\n",
              "      <th>high</th>\n",
              "      <th>low</th>\n",
              "    </tr>\n",
              "  </thead>\n",
              "  <tbody>\n",
              "    <tr>\n",
              "      <th>1</th>\n",
              "      <td>10817.0</td>\n",
              "      <td>10817.0</td>\n",
              "      <td>-0.2732</td>\n",
              "      <td>0.0000</td>\n",
              "      <td>312000.0</td>\n",
              "      <td>10873.400391</td>\n",
              "      <td>10887.5</td>\n",
              "      <td>10782.400391</td>\n",
              "    </tr>\n",
              "    <tr>\n",
              "      <th>2</th>\n",
              "      <td>10817.0</td>\n",
              "      <td>10817.0</td>\n",
              "      <td>0.0000</td>\n",
              "      <td>0.0000</td>\n",
              "      <td>312000.0</td>\n",
              "      <td>10873.400391</td>\n",
              "      <td>10887.5</td>\n",
              "      <td>10782.400391</td>\n",
              "    </tr>\n",
              "    <tr>\n",
              "      <th>3</th>\n",
              "      <td>10817.0</td>\n",
              "      <td>10817.0</td>\n",
              "      <td>0.0000</td>\n",
              "      <td>0.6124</td>\n",
              "      <td>312000.0</td>\n",
              "      <td>10873.400391</td>\n",
              "      <td>10887.5</td>\n",
              "      <td>10782.400391</td>\n",
              "    </tr>\n",
              "    <tr>\n",
              "      <th>4</th>\n",
              "      <td>10817.0</td>\n",
              "      <td>10817.0</td>\n",
              "      <td>0.6124</td>\n",
              "      <td>0.4404</td>\n",
              "      <td>312000.0</td>\n",
              "      <td>10873.400391</td>\n",
              "      <td>10887.5</td>\n",
              "      <td>10782.400391</td>\n",
              "    </tr>\n",
              "    <tr>\n",
              "      <th>5</th>\n",
              "      <td>10817.0</td>\n",
              "      <td>10817.0</td>\n",
              "      <td>0.4404</td>\n",
              "      <td>0.5719</td>\n",
              "      <td>312000.0</td>\n",
              "      <td>10873.400391</td>\n",
              "      <td>10887.5</td>\n",
              "      <td>10782.400391</td>\n",
              "    </tr>\n",
              "    <tr>\n",
              "      <th>6</th>\n",
              "      <td>10817.0</td>\n",
              "      <td>10817.0</td>\n",
              "      <td>0.5719</td>\n",
              "      <td>0.5719</td>\n",
              "      <td>312000.0</td>\n",
              "      <td>10873.400391</td>\n",
              "      <td>10887.5</td>\n",
              "      <td>10782.400391</td>\n",
              "    </tr>\n",
              "    <tr>\n",
              "      <th>7</th>\n",
              "      <td>10817.0</td>\n",
              "      <td>10817.0</td>\n",
              "      <td>0.5719</td>\n",
              "      <td>0.4767</td>\n",
              "      <td>312000.0</td>\n",
              "      <td>10873.400391</td>\n",
              "      <td>10887.5</td>\n",
              "      <td>10782.400391</td>\n",
              "    </tr>\n",
              "    <tr>\n",
              "      <th>8</th>\n",
              "      <td>10817.0</td>\n",
              "      <td>10817.0</td>\n",
              "      <td>0.4767</td>\n",
              "      <td>0.4767</td>\n",
              "      <td>312000.0</td>\n",
              "      <td>10873.400391</td>\n",
              "      <td>10887.5</td>\n",
              "      <td>10782.400391</td>\n",
              "    </tr>\n",
              "    <tr>\n",
              "      <th>9</th>\n",
              "      <td>10817.0</td>\n",
              "      <td>10817.0</td>\n",
              "      <td>0.4767</td>\n",
              "      <td>0.0000</td>\n",
              "      <td>312000.0</td>\n",
              "      <td>10873.400391</td>\n",
              "      <td>10887.5</td>\n",
              "      <td>10782.400391</td>\n",
              "    </tr>\n",
              "    <tr>\n",
              "      <th>10</th>\n",
              "      <td>10817.0</td>\n",
              "      <td>10817.0</td>\n",
              "      <td>0.0000</td>\n",
              "      <td>0.5859</td>\n",
              "      <td>312000.0</td>\n",
              "      <td>10873.400391</td>\n",
              "      <td>10887.5</td>\n",
              "      <td>10782.400391</td>\n",
              "    </tr>\n",
              "  </tbody>\n",
              "</table>\n",
              "</div>"
            ],
            "text/plain": [
              "    close_price  close_price_shifted  ...     high           low\n",
              "1       10817.0              10817.0  ...  10887.5  10782.400391\n",
              "2       10817.0              10817.0  ...  10887.5  10782.400391\n",
              "3       10817.0              10817.0  ...  10887.5  10782.400391\n",
              "4       10817.0              10817.0  ...  10887.5  10782.400391\n",
              "5       10817.0              10817.0  ...  10887.5  10782.400391\n",
              "6       10817.0              10817.0  ...  10887.5  10782.400391\n",
              "7       10817.0              10817.0  ...  10887.5  10782.400391\n",
              "8       10817.0              10817.0  ...  10887.5  10782.400391\n",
              "9       10817.0              10817.0  ...  10887.5  10782.400391\n",
              "10      10817.0              10817.0  ...  10887.5  10782.400391\n",
              "\n",
              "[10 rows x 8 columns]"
            ]
          },
          "metadata": {
            "tags": []
          },
          "execution_count": 56
        }
      ]
    },
    {
      "cell_type": "code",
      "metadata": {
        "id": "-wi-PvbI6rH3"
      },
      "source": [
        ""
      ],
      "execution_count": 56,
      "outputs": []
    },
    {
      "cell_type": "markdown",
      "metadata": {
        "id": "lf4hqVzS6x8i"
      },
      "source": [
        "## Setting the Target Variable and the Feature Dataset"
      ]
    },
    {
      "cell_type": "code",
      "metadata": {
        "colab": {
          "base_uri": "https://localhost:8080/"
        },
        "id": "xY0STYVL6zZo",
        "outputId": "0b7bda8e-0e38-4a9a-e55a-e03e1fe73045"
      },
      "source": [
        "# setting the target variable as the shifted close_price\n",
        "y = data['close_price_shifted']\n",
        "y"
      ],
      "execution_count": 57,
      "outputs": [
        {
          "output_type": "execute_result",
          "data": {
            "text/plain": [
              "1         10817.000000\n",
              "2         10817.000000\n",
              "3         10817.000000\n",
              "4         10817.000000\n",
              "5         10817.000000\n",
              "              ...     \n",
              "343574    10302.099609\n",
              "343575    10302.099609\n",
              "343576    10302.099609\n",
              "343577    10302.099609\n",
              "343578    10302.099609\n",
              "Name: close_price_shifted, Length: 343578, dtype: float64"
            ]
          },
          "metadata": {
            "tags": []
          },
          "execution_count": 57
        }
      ]
    },
    {
      "cell_type": "code",
      "metadata": {
        "colab": {
          "base_uri": "https://localhost:8080/",
          "height": 391
        },
        "id": "xjM4dmIB63GC",
        "outputId": "f7f45420-f30c-49db-8840-3ec35b0947bd"
      },
      "source": [
        "# setting the features dataset for prediction  \n",
        "cols = ['close_price', 'compound', 'compound_shifted', 'volume', 'open_price', 'high', 'low']\n",
        "x = data[cols]\n",
        "x"
      ],
      "execution_count": 58,
      "outputs": [
        {
          "output_type": "execute_result",
          "data": {
            "text/html": [
              "<div>\n",
              "<style scoped>\n",
              "    .dataframe tbody tr th:only-of-type {\n",
              "        vertical-align: middle;\n",
              "    }\n",
              "\n",
              "    .dataframe tbody tr th {\n",
              "        vertical-align: top;\n",
              "    }\n",
              "\n",
              "    .dataframe thead th {\n",
              "        text-align: right;\n",
              "    }\n",
              "</style>\n",
              "<table border=\"1\" class=\"dataframe\">\n",
              "  <thead>\n",
              "    <tr style=\"text-align: right;\">\n",
              "      <th></th>\n",
              "      <th>close_price</th>\n",
              "      <th>compound</th>\n",
              "      <th>compound_shifted</th>\n",
              "      <th>volume</th>\n",
              "      <th>open_price</th>\n",
              "      <th>high</th>\n",
              "      <th>low</th>\n",
              "    </tr>\n",
              "  </thead>\n",
              "  <tbody>\n",
              "    <tr>\n",
              "      <th>1</th>\n",
              "      <td>10817.000000</td>\n",
              "      <td>-0.2732</td>\n",
              "      <td>0.0000</td>\n",
              "      <td>312000.0</td>\n",
              "      <td>10873.400391</td>\n",
              "      <td>10887.500000</td>\n",
              "      <td>10782.400391</td>\n",
              "    </tr>\n",
              "    <tr>\n",
              "      <th>2</th>\n",
              "      <td>10817.000000</td>\n",
              "      <td>0.0000</td>\n",
              "      <td>0.0000</td>\n",
              "      <td>312000.0</td>\n",
              "      <td>10873.400391</td>\n",
              "      <td>10887.500000</td>\n",
              "      <td>10782.400391</td>\n",
              "    </tr>\n",
              "    <tr>\n",
              "      <th>3</th>\n",
              "      <td>10817.000000</td>\n",
              "      <td>0.0000</td>\n",
              "      <td>0.6124</td>\n",
              "      <td>312000.0</td>\n",
              "      <td>10873.400391</td>\n",
              "      <td>10887.500000</td>\n",
              "      <td>10782.400391</td>\n",
              "    </tr>\n",
              "    <tr>\n",
              "      <th>4</th>\n",
              "      <td>10817.000000</td>\n",
              "      <td>0.6124</td>\n",
              "      <td>0.4404</td>\n",
              "      <td>312000.0</td>\n",
              "      <td>10873.400391</td>\n",
              "      <td>10887.500000</td>\n",
              "      <td>10782.400391</td>\n",
              "    </tr>\n",
              "    <tr>\n",
              "      <th>5</th>\n",
              "      <td>10817.000000</td>\n",
              "      <td>0.4404</td>\n",
              "      <td>0.5719</td>\n",
              "      <td>312000.0</td>\n",
              "      <td>10873.400391</td>\n",
              "      <td>10887.500000</td>\n",
              "      <td>10782.400391</td>\n",
              "    </tr>\n",
              "    <tr>\n",
              "      <th>...</th>\n",
              "      <td>...</td>\n",
              "      <td>...</td>\n",
              "      <td>...</td>\n",
              "      <td>...</td>\n",
              "      <td>...</td>\n",
              "      <td>...</td>\n",
              "      <td>...</td>\n",
              "    </tr>\n",
              "    <tr>\n",
              "      <th>343574</th>\n",
              "      <td>10302.099609</td>\n",
              "      <td>-0.1027</td>\n",
              "      <td>0.0000</td>\n",
              "      <td>556200.0</td>\n",
              "      <td>10382.599609</td>\n",
              "      <td>10401.049805</td>\n",
              "      <td>10267.349609</td>\n",
              "    </tr>\n",
              "    <tr>\n",
              "      <th>343575</th>\n",
              "      <td>10302.099609</td>\n",
              "      <td>0.0000</td>\n",
              "      <td>0.0000</td>\n",
              "      <td>556200.0</td>\n",
              "      <td>10382.599609</td>\n",
              "      <td>10401.049805</td>\n",
              "      <td>10267.349609</td>\n",
              "    </tr>\n",
              "    <tr>\n",
              "      <th>343576</th>\n",
              "      <td>10302.099609</td>\n",
              "      <td>0.0000</td>\n",
              "      <td>0.2960</td>\n",
              "      <td>556200.0</td>\n",
              "      <td>10382.599609</td>\n",
              "      <td>10401.049805</td>\n",
              "      <td>10267.349609</td>\n",
              "    </tr>\n",
              "    <tr>\n",
              "      <th>343577</th>\n",
              "      <td>10302.099609</td>\n",
              "      <td>0.2960</td>\n",
              "      <td>0.4939</td>\n",
              "      <td>556200.0</td>\n",
              "      <td>10382.599609</td>\n",
              "      <td>10401.049805</td>\n",
              "      <td>10267.349609</td>\n",
              "    </tr>\n",
              "    <tr>\n",
              "      <th>343578</th>\n",
              "      <td>10302.099609</td>\n",
              "      <td>0.4939</td>\n",
              "      <td>0.2960</td>\n",
              "      <td>556200.0</td>\n",
              "      <td>10382.599609</td>\n",
              "      <td>10401.049805</td>\n",
              "      <td>10267.349609</td>\n",
              "    </tr>\n",
              "  </tbody>\n",
              "</table>\n",
              "<p>343578 rows × 7 columns</p>\n",
              "</div>"
            ],
            "text/plain": [
              "         close_price  compound  ...          high           low\n",
              "1       10817.000000   -0.2732  ...  10887.500000  10782.400391\n",
              "2       10817.000000    0.0000  ...  10887.500000  10782.400391\n",
              "3       10817.000000    0.0000  ...  10887.500000  10782.400391\n",
              "4       10817.000000    0.6124  ...  10887.500000  10782.400391\n",
              "5       10817.000000    0.4404  ...  10887.500000  10782.400391\n",
              "...              ...       ...  ...           ...           ...\n",
              "343574  10302.099609   -0.1027  ...  10401.049805  10267.349609\n",
              "343575  10302.099609    0.0000  ...  10401.049805  10267.349609\n",
              "343576  10302.099609    0.0000  ...  10401.049805  10267.349609\n",
              "343577  10302.099609    0.2960  ...  10401.049805  10267.349609\n",
              "343578  10302.099609    0.4939  ...  10401.049805  10267.349609\n",
              "\n",
              "[343578 rows x 7 columns]"
            ]
          },
          "metadata": {
            "tags": []
          },
          "execution_count": 58
        }
      ]
    },
    {
      "cell_type": "code",
      "metadata": {
        "colab": {
          "base_uri": "https://localhost:8080/"
        },
        "id": "2bSm1SQP661L",
        "outputId": "f85271b7-0896-4a35-c3e8-08027325e000"
      },
      "source": [
        "#  Scaling the Target Variable and the Feature Dataset\n",
        "# scaling the feature dataset\n",
        "from sklearn import preprocessing, metrics\n",
        "from sklearn.preprocessing import MinMaxScaler\n",
        "scaler_x = preprocessing.MinMaxScaler (feature_range=(-1, 1))\n",
        "x = np.array(x).reshape((len(x) ,len(cols)))\n",
        "x = scaler_x.fit_transform(x)\n",
        "\n",
        "# scaling the target variable\n",
        "scaler_y = preprocessing.MinMaxScaler (feature_range=(-1, 1))\n",
        "y = np.array (y).reshape ((len( y), 1))\n",
        "y = scaler_y.fit_transform (y)\n",
        "\n",
        "# displaying the scaled feature dataset and the target variable\n",
        "x, y"
      ],
      "execution_count": 59,
      "outputs": [
        {
          "output_type": "execute_result",
          "data": {
            "text/plain": [
              "(array([[ 0.34962811, -0.28295786,  0.00198164, ...,  0.33674824,\n",
              "          0.29760669,  0.36012311],\n",
              "        [ 0.34962811,  0.00198164,  0.00198164, ...,  0.33674824,\n",
              "          0.29760669,  0.36012311],\n",
              "        [ 0.34962811,  0.00198164,  0.6406967 , ...,  0.33674824,\n",
              "          0.29760669,  0.36012311],\n",
              "        ...,\n",
              "        [ 0.13292146,  0.00198164,  0.31070088, ...,  0.12769001,\n",
              "          0.07616834,  0.14597815],\n",
              "        [ 0.13292146,  0.31070088,  0.51710471, ...,  0.12769001,\n",
              "          0.07616834,  0.14597815],\n",
              "        [ 0.13292146,  0.51710471,  0.31070088, ...,  0.12769001,\n",
              "          0.07616834,  0.14597815]]), array([[0.34962811],\n",
              "        [0.34962811],\n",
              "        [0.34962811],\n",
              "        ...,\n",
              "        [0.13292146],\n",
              "        [0.13292146],\n",
              "        [0.13292146]]))"
            ]
          },
          "metadata": {
            "tags": []
          },
          "execution_count": 59
        }
      ]
    },
    {
      "cell_type": "code",
      "metadata": {
        "colab": {
          "base_uri": "https://localhost:8080/"
        },
        "id": "o3UTXtNp7EFX",
        "outputId": "a326319f-dd53-42c4-e129-ae794decadf3"
      },
      "source": [
        "# preparing training and test dataset\n",
        "X_train = x[0 : train_end,]\n",
        "X_test = x[train_end+1 : len(x),]    \n",
        "y_train = y[0 : train_end] \n",
        "y_test = y[train_end+1 : len(y)]  \n",
        "\n",
        "# printing the shape of the training and the test datasets\n",
        "print('Number of rows and columns in the Training set X:', X_train.shape, 'and y:', y_train.shape)\n",
        "print('Number of rows and columns in the Test set X:', X_test.shape, 'and y:', y_test.shape)"
      ],
      "execution_count": 60,
      "outputs": [
        {
          "output_type": "stream",
          "text": [
            "Number of rows and columns in the Training set X: (274863, 7) and y: (274863, 1)\n",
            "Number of rows and columns in the Test set X: (68714, 7) and y: (68714, 1)\n"
          ],
          "name": "stdout"
        }
      ]
    },
    {
      "cell_type": "code",
      "metadata": {
        "colab": {
          "base_uri": "https://localhost:8080/"
        },
        "id": "f9DxWZDs7gMK",
        "outputId": "0186f561-7678-492a-fd90-0a916d8666dc"
      },
      "source": [
        "# reshaping the feature dataset for feeding into the model\n",
        "X_train = X_train.reshape (X_train.shape + (1,)) \n",
        "X_test = X_test.reshape(X_test.shape + (1,))\n",
        "\n",
        "# printing the re-shaped feature dataset\n",
        "print('Shape of Training set X:', X_train.shape)\n",
        "print('Shape of Test set X:', X_test.shape)"
      ],
      "execution_count": 61,
      "outputs": [
        {
          "output_type": "stream",
          "text": [
            "Shape of Training set X: (274863, 7, 1)\n",
            "Shape of Test set X: (68714, 7, 1)\n"
          ],
          "name": "stdout"
        }
      ]
    },
    {
      "cell_type": "code",
      "metadata": {
        "id": "LMQSj6AR7kNZ"
      },
      "source": [
        ""
      ],
      "execution_count": 61,
      "outputs": []
    },
    {
      "cell_type": "markdown",
      "metadata": {
        "id": "3_ib79sO7u1J"
      },
      "source": [
        "## Stock Data **Modelling**"
      ]
    },
    {
      "cell_type": "code",
      "metadata": {
        "id": "xmE6RUsH7wwj"
      },
      "source": [
        "from keras.models import Sequential\n",
        "from keras.layers import Dense, LSTM, Dropout, Dense, Activation\n"
      ],
      "execution_count": 62,
      "outputs": []
    },
    {
      "cell_type": "code",
      "metadata": {
        "colab": {
          "base_uri": "https://localhost:8080/"
        },
        "id": "MCxfEl__78tv",
        "outputId": "207dc9d1-7f71-4a8c-ddd9-d3c4755b7c9d"
      },
      "source": [
        "# setting the seed to achieve consistent and less random predictions at each execution\n",
        "np.random.seed(2016)\n",
        "\n",
        "# setting the model architecture\n",
        "model=Sequential()\n",
        "model.add(LSTM(100,return_sequences=True,activation='tanh',input_shape=(len(cols),1)))\n",
        "model.add(Dropout(0.1))\n",
        "model.add(LSTM(100,return_sequences=True,activation='tanh'))\n",
        "model.add(Dropout(0.1))\n",
        "model.add(LSTM(100,activation='tanh'))\n",
        "model.add(Dropout(0.1))\n",
        "model.add(Dense(1))\n",
        "\n",
        "# printing the model summary\n",
        "model.summary()"
      ],
      "execution_count": 63,
      "outputs": [
        {
          "output_type": "stream",
          "text": [
            "Model: \"sequential\"\n",
            "_________________________________________________________________\n",
            "Layer (type)                 Output Shape              Param #   \n",
            "=================================================================\n",
            "lstm (LSTM)                  (None, 7, 100)            40800     \n",
            "_________________________________________________________________\n",
            "dropout (Dropout)            (None, 7, 100)            0         \n",
            "_________________________________________________________________\n",
            "lstm_1 (LSTM)                (None, 7, 100)            80400     \n",
            "_________________________________________________________________\n",
            "dropout_1 (Dropout)          (None, 7, 100)            0         \n",
            "_________________________________________________________________\n",
            "lstm_2 (LSTM)                (None, 100)               80400     \n",
            "_________________________________________________________________\n",
            "dropout_2 (Dropout)          (None, 100)               0         \n",
            "_________________________________________________________________\n",
            "dense (Dense)                (None, 1)                 101       \n",
            "=================================================================\n",
            "Total params: 201,701\n",
            "Trainable params: 201,701\n",
            "Non-trainable params: 0\n",
            "_________________________________________________________________\n"
          ],
          "name": "stdout"
        }
      ]
    },
    {
      "cell_type": "code",
      "metadata": {
        "colab": {
          "base_uri": "https://localhost:8080/"
        },
        "id": "k1nEdngQ8Ar5",
        "outputId": "5ed0eaaa-8d46-4ce8-90b1-6c374eb9af63"
      },
      "source": [
        "# compiling the model\n",
        "model.compile(loss='mse' , optimizer='adam')\n",
        "\n",
        "# fitting the model using the training dataset\n",
        "model.fit(X_train, y_train, validation_split=0.2, epochs=10, batch_size=8, verbose=1)"
      ],
      "execution_count": 64,
      "outputs": [
        {
          "output_type": "stream",
          "text": [
            "Epoch 1/10\n",
            "27487/27487 [==============================] - 182s 7ms/step - loss: 6.4447e-04 - val_loss: 4.1446e-04\n",
            "Epoch 2/10\n",
            "27487/27487 [==============================] - 179s 7ms/step - loss: 1.8708e-04 - val_loss: 0.0018\n",
            "Epoch 3/10\n",
            "27487/27487 [==============================] - 180s 7ms/step - loss: 1.2129e-04 - val_loss: 1.1595e-04\n",
            "Epoch 4/10\n",
            "27487/27487 [==============================] - 181s 7ms/step - loss: 9.8476e-05 - val_loss: 1.1434e-04\n",
            "Epoch 5/10\n",
            "27487/27487 [==============================] - 181s 7ms/step - loss: 8.9244e-05 - val_loss: 2.7838e-05\n",
            "Epoch 6/10\n",
            "27487/27487 [==============================] - 178s 6ms/step - loss: 8.3166e-05 - val_loss: 3.1204e-05\n",
            "Epoch 7/10\n",
            "27487/27487 [==============================] - 181s 7ms/step - loss: 7.8778e-05 - val_loss: 1.1946e-04\n",
            "Epoch 8/10\n",
            "27487/27487 [==============================] - 181s 7ms/step - loss: 7.6577e-05 - val_loss: 3.3273e-04\n",
            "Epoch 9/10\n",
            "27487/27487 [==============================] - 181s 7ms/step - loss: 7.3401e-05 - val_loss: 2.3216e-05\n",
            "Epoch 10/10\n",
            "27487/27487 [==============================] - 178s 6ms/step - loss: 7.1959e-05 - val_loss: 5.8783e-05\n"
          ],
          "name": "stdout"
        },
        {
          "output_type": "execute_result",
          "data": {
            "text/plain": [
              "<tensorflow.python.keras.callbacks.History at 0x7fc79e028668>"
            ]
          },
          "metadata": {
            "tags": []
          },
          "execution_count": 64
        }
      ]
    },
    {
      "cell_type": "code",
      "metadata": {
        "colab": {
          "base_uri": "https://localhost:8080/"
        },
        "id": "_r3-PBkj8IQk",
        "outputId": "980cd7c7-4f41-4c23-b869-ef53cc8c8f80"
      },
      "source": [
        "# Predictions\n",
        "# performing predictions\n",
        "predictions = model.predict(X_test) \n",
        "\n",
        "# unscaling the predictions\n",
        "predictions = scaler_y.inverse_transform(np.array(predictions).reshape((len(predictions), 1)))\n",
        "\n",
        "# printing the predictions\n",
        "print('Predictions:')\n",
        "predictions[0:5]"
      ],
      "execution_count": 65,
      "outputs": [
        {
          "output_type": "stream",
          "text": [
            "Predictions:\n"
          ],
          "name": "stdout"
        },
        {
          "output_type": "execute_result",
          "data": {
            "text/plain": [
              "array([[11918.283],\n",
              "       [11915.593],\n",
              "       [11917.797],\n",
              "       [11918.968],\n",
              "       [11918.207]], dtype=float32)"
            ]
          },
          "metadata": {
            "tags": []
          },
          "execution_count": 65
        }
      ]
    },
    {
      "cell_type": "code",
      "metadata": {
        "colab": {
          "base_uri": "https://localhost:8080/"
        },
        "id": "OHOF82LEAjL-",
        "outputId": "b8ae6891-8385-45c4-bc33-a29c101dc7cb"
      },
      "source": [
        "#  Model Evaluation\n",
        "# calculating the training mean-squared-error\n",
        "train_loss = model.evaluate(X_train, y_train, batch_size = 1)\n",
        "\n",
        "# calculating the test mean-squared-error\n",
        "test_loss = model.evaluate(X_test, y_test, batch_size = 1)\n",
        "\n",
        "# printing the training and the test mean-squared-errors\n",
        "print('Train Loss =', round(train_loss,4))\n",
        "print('Test Loss =', round(test_loss,4))"
      ],
      "execution_count": 66,
      "outputs": [
        {
          "output_type": "stream",
          "text": [
            "274863/274863 [==============================] - 747s 3ms/step - loss: 2.6318e-05\n",
            "68714/68714 [==============================] - 186s 3ms/step - loss: 0.0449\n",
            "Train Loss = 0.0\n",
            "Test Loss = 0.0449\n"
          ],
          "name": "stdout"
        }
      ]
    },
    {
      "cell_type": "code",
      "metadata": {
        "colab": {
          "base_uri": "https://localhost:8080/"
        },
        "id": "PaFHJ2Y9Ajpo",
        "outputId": "4741b206-5bed-4999-cd5c-c3e5ce23d8cf"
      },
      "source": [
        "# calculating root mean squared error\n",
        "root_mean_square_error = np.sqrt(np.mean(np.power((y_test - predictions),2)))\n",
        "print('Root Mean Square Error =', round(root_mean_square_error,4))"
      ],
      "execution_count": 67,
      "outputs": [
        {
          "output_type": "stream",
          "text": [
            "Root Mean Square Error = 10856.3681\n"
          ],
          "name": "stdout"
        }
      ]
    },
    {
      "cell_type": "code",
      "metadata": {
        "colab": {
          "base_uri": "https://localhost:8080/"
        },
        "id": "bus48q7lAk7E",
        "outputId": "fdaafd9e-990f-4917-b173-6f3e2c483df9"
      },
      "source": [
        "# calculating root mean squared error using sklearn.metrics package\n",
        "rmse = metrics.mean_squared_error(y_test, predictions)\n",
        "print('Root Mean Square Error (sklearn.metrics) =', round(np.sqrt(rmse),4))"
      ],
      "execution_count": 68,
      "outputs": [
        {
          "output_type": "stream",
          "text": [
            "Root Mean Square Error (sklearn.metrics) = 10856.3681\n"
          ],
          "name": "stdout"
        }
      ]
    },
    {
      "cell_type": "code",
      "metadata": {
        "id": "Ad4HY64dAlT_"
      },
      "source": [
        "# unscaling the test feature dataset, x_test\n",
        "X_test = scaler_x.inverse_transform(np.array(X_test).reshape((len(X_test), len(cols))))\n",
        "\n",
        "# unscaling the test y dataset, y_test\n",
        "y_train = scaler_y.inverse_transform(np.array(y_train).reshape((len(y_train), 1)))\n",
        "y_test = scaler_y.inverse_transform(np.array(y_test).reshape((len(y_test), 1)))"
      ],
      "execution_count": 69,
      "outputs": []
    },
    {
      "cell_type": "code",
      "metadata": {
        "colab": {
          "base_uri": "https://localhost:8080/",
          "height": 625
        },
        "id": "uEYQYva1Ajn1",
        "outputId": "77c6babb-69e8-4ded-b0ba-8cd5607b3cdb"
      },
      "source": [
        "# plotting\n",
        "plt.figure(figsize=(16,10))\n",
        "\n",
        "# plt.plot([row[0] for row in y_train], label=\"Training Close Price\")\n",
        "plt.plot(predictions, label=\"Predicted Close Price\")\n",
        "plt.plot([row[0] for row in y_test], label=\"Testing Close Price\")\n",
        "plt.legend(loc='upper center', bbox_to_anchor=(0.5, -0.05), fancybox=True, shadow=True, ncol=2)\n",
        "plt.show()"
      ],
      "execution_count": 70,
      "outputs": [
        {
          "output_type": "display_data",
          "data": {
            "image/png": "[encoded data removed]",
            "text/plain": [
              "<Figure size 1152x720 with 1 Axes>"
            ]
          },
          "metadata": {
            "tags": [],
            "needs_background": "light"
          }
        }
      ]
    },
    {
      "cell_type": "code",
      "metadata": {
        "id": "LxHodFbQAjJe"
      },
      "source": [
        ""
      ],
      "execution_count": 70,
      "outputs": []
    },
    {
      "cell_type": "code",
      "metadata": {
        "id": "nQo2Xz19AjG1"
      },
      "source": [
        ""
      ],
      "execution_count": null,
      "outputs": []
    },
    {
      "cell_type": "code",
      "metadata": {
        "id": "cGjbrqX3AjEM"
      },
      "source": [
        ""
      ],
      "execution_count": null,
      "outputs": []
    }
  ]
}